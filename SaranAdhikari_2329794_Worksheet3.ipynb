{
  "nbformat": 4,
  "nbformat_minor": 0,
  "metadata": {
    "colab": {
      "provenance": []
    },
    "kernelspec": {
      "name": "python3",
      "display_name": "Python 3"
    },
    "language_info": {
      "name": "python"
    }
  },
  "cells": [
    {
      "cell_type": "markdown",
      "source": [
        "**Name: Saran Adhikari**\n",
        "\n",
        "**University ID: 2329794**\n",
        "\n",
        "**Worksheet3**"
      ],
      "metadata": {
        "id": "OM8Uk7866lTg"
      }
    },
    {
      "cell_type": "markdown",
      "source": [
        "# Implementation of MCP Neuron for AND and OR Function."
      ],
      "metadata": {
        "id": "IY-_Zy_b71lD"
      }
    },
    {
      "cell_type": "code",
      "source": [
        "def MCP_Neurons_AND(X1, X2, T):\n",
        "    \"\"\"\n",
        "    This function implements basic AND operations with MCP Neuron for two inputs.\n",
        "    Arguments:\n",
        "        Inputs:\n",
        "            X1 (1D array): An array of binary values.\n",
        "            X2 (1D array): An array of binary values.\n",
        "        Output:\n",
        "            state_neuron (1D list): An state of neuron 1 or 0 for the particular inputs.\n",
        "    \"\"\"\n",
        "    assert len(X1) == len(X2)\n",
        "    ### YOUR CODE HERE ###\n",
        "    # Perform an element-wise addition of two input arrays stored in a new array (list):\n",
        "    sums = [x1 + x2 for x1, x2 in zip(X1, X2)]\n",
        "    # Create a new array to put all the predictions, let's name that state_neuron:\n",
        "    state_neuron = []\n",
        "    # Append 1 in state_neuron if sum (element) of above list is above or equal to Threshold, else append 0:\n",
        "    for s in sums:\n",
        "        if s >= T:\n",
        "            state_neuron.append(1)\n",
        "        else:\n",
        "            state_neuron.append(0)\n",
        "\n",
        "    return state_neuron"
      ],
      "metadata": {
        "id": "Fu-YDOe_8GJi"
      },
      "execution_count": 1,
      "outputs": []
    },
    {
      "cell_type": "code",
      "source": [
        "# Example usage for MCP_Neurons_AND function\n",
        "X1 = [0, 0, 1, 1]\n",
        "X2 = [0, 1, 0, 1]\n",
        "T = 2  # Threshold value\n",
        "\n",
        "# Call the MCP_Neurons_AND function\n",
        "result = MCP_Neurons_AND(X1, X2, T)\n",
        "\n",
        "# Print the result\n",
        "print(f\"Output of AND gate for inputs {X1} and {X2} with threshold {T}: {result}\")\n"
      ],
      "metadata": {
        "colab": {
          "base_uri": "https://localhost:8080/"
        },
        "id": "e2-lKfat8ocN",
        "outputId": "6e7a30bc-c776-488f-c898-a2f55cadb1c4"
      },
      "execution_count": 2,
      "outputs": [
        {
          "output_type": "stream",
          "name": "stdout",
          "text": [
            "Output of AND gate for inputs [0, 0, 1, 1] and [0, 1, 0, 1] with threshold 2: [0, 0, 0, 1]\n"
          ]
        }
      ]
    },
    {
      "cell_type": "code",
      "source": [
        "def MCP_Neurons_OR(X1, X2, T):\n",
        "    \"\"\"\n",
        "    This function implements basic OR operations with MCP Neuron for two inputs.\n",
        "    Arguments:\n",
        "    Inputs:\n",
        "    X1 (1D array): An array of binary values.\n",
        "    X2 (1D array): An array of binary values.\n",
        "    Output:\n",
        "    state_neuron (1D list): The state of the neuron (1 or 0) for the particular inputs.\n",
        "    \"\"\"\n",
        "    assert len(X1) == len(X2)\n",
        "    # Perform an element-wise addition of two input arrays stored in a new array (list):\n",
        "    sums = [x1 + x2 for x1, x2 in zip(X1, X2)]\n",
        "    # Create a new array to put all the predictions, let's name that a state_neuron:\n",
        "    state_neuron = []\n",
        "    # Append 1 in state_neuron if sum (element) of above list is above or equal to Threshold, else append 0:\n",
        "    for s in sums:\n",
        "        if s >= T:\n",
        "            state_neuron.append(1)\n",
        "        else:\n",
        "            state_neuron.append(0)\n",
        "\n",
        "    return state_neuron\n"
      ],
      "metadata": {
        "id": "7xaMXlLT9FHC"
      },
      "execution_count": 3,
      "outputs": []
    },
    {
      "cell_type": "code",
      "source": [
        "# Example usage for MCP_Neurons_OR function\n",
        "X1 = [0, 0, 1, 1]\n",
        "X2 = [0, 1, 0, 1]\n",
        "T = 1  # Threshold value for OR gate\n",
        "\n",
        "# Call the MCP_Neurons_OR function\n",
        "result_or = MCP_Neurons_OR(X1, X2, T)\n",
        "\n",
        "# Print the result\n",
        "print(f\"Output of OR gate for inputs {X1} and {X2} with threshold {T}: {result_or}\")\n"
      ],
      "metadata": {
        "colab": {
          "base_uri": "https://localhost:8080/"
        },
        "id": "6H-YOy268_Jo",
        "outputId": "a09ed3df-cc83-45fe-a15d-ba5028f405b2"
      },
      "execution_count": 4,
      "outputs": [
        {
          "output_type": "stream",
          "name": "stdout",
          "text": [
            "Output of OR gate for inputs [0, 0, 1, 1] and [0, 1, 0, 1] with threshold 1: [0, 1, 1, 1]\n"
          ]
        }
      ]
    },
    {
      "cell_type": "markdown",
      "source": [
        "# Implementation for 0 Vs. 1 Classification."
      ],
      "metadata": {
        "id": "Apa9bfLIFJHe"
      }
    },
    {
      "cell_type": "code",
      "source": [
        "#mount google drive\n",
        "from google.colab import drive\n",
        "drive.mount('/content/drive')"
      ],
      "metadata": {
        "colab": {
          "base_uri": "https://localhost:8080/"
        },
        "id": "w_eJAjQFpw0y",
        "outputId": "65330cac-d6e1-4146-dda7-2a98642bd80f"
      },
      "execution_count": 5,
      "outputs": [
        {
          "output_type": "stream",
          "name": "stdout",
          "text": [
            "Mounted at /content/drive\n"
          ]
        }
      ]
    },
    {
      "cell_type": "markdown",
      "source": [
        "## Step 1: Load the Dataset"
      ],
      "metadata": {
        "id": "iom83mGLFP_1"
      }
    },
    {
      "cell_type": "code",
      "source": [
        "import pandas as pd\n",
        "import numpy as np\n",
        "import matplotlib.pyplot as plt\n",
        "\n",
        "\n",
        "# Load the dataset\n",
        "try:\n",
        "    df_0_1 = pd.read_csv(\"/content/drive/MyDrive/AI&ML/WEEK3/mnist_0_and_1.csv\")  # Adjust path if necessary\n",
        "except FileNotFoundError:\n",
        "    print(\"Error: Dataset file not found. Please check the file path.\")\n",
        "    raise\n",
        "\n",
        "# Extract features and labels\n",
        "X = df_0_1.drop(columns=[\"label\"]).values # 784 pixels\n",
        "y = df_0_1[\"label\"].values  # Labels (0 or 1)\n",
        "\n",
        "# Check the shape of the features and labels\n",
        "print(\"Feature matrix shape:\", X.shape)\n",
        "print(\"Label vector shape:\", y.shape)\n",
        "print(\"Unique labels in y:\", np.unique(y))\n"
      ],
      "metadata": {
        "colab": {
          "base_uri": "https://localhost:8080/"
        },
        "id": "7rkW58ct9IYq",
        "outputId": "134d4585-041c-4a1c-8eac-bbcce64ee562"
      },
      "execution_count": 6,
      "outputs": [
        {
          "output_type": "stream",
          "name": "stdout",
          "text": [
            "Feature matrix shape: (12665, 784)\n",
            "Label vector shape: (12665,)\n",
            "Unique labels in y: [0 1]\n"
          ]
        }
      ]
    },
    {
      "cell_type": "markdown",
      "source": [
        "1. What does the shape of X represent?\n",
        "\n",
        "**Answer:** The dimensions of X (e.g., (11982, 784)) indicate the total number of instances (rows, e.g., 11,982 images) and the count of attributes (columns, e.g., 784 pixels per image).\n"
      ],
      "metadata": {
        "id": "8veIh3ECyPf7"
      }
    },
    {
      "cell_type": "markdown",
      "source": [
        "### Step 2: Viewing the Dataset."
      ],
      "metadata": {
        "id": "jlq0EY2jHheD"
      }
    },
    {
      "cell_type": "code",
      "source": [
        "# Separate images for label 0 and label 1\n",
        "images_0 = X[y == 0]  # Get all images with label 0\n",
        "images_1 = X[y == 1]  # Get all images with label 1\n",
        "\n",
        "# Check the number of images available\n",
        "print(\"Number of images labeled 0:\", len(images_0))\n",
        "print(\"Number of images labeled 1:\", len(images_1))\n",
        "\n",
        "# Create subplots\n",
        "fig, axes = plt.subplots(2, 5, figsize=(10, 5))\n",
        "\n",
        "# Verify axes is a 2D array\n",
        "print(\"Axes shape:\", axes.shape)  # Should be (2, 5)\n",
        "\n",
        "# Check if there are enough images to plot\n",
        "if len(images_0) < 5 or len(images_1) < 5:\n",
        "    print(\"Error: Not enough images in images_0 or images_1 to plot 5 images.\")\n",
        "else:\n",
        "    for i in range(5):\n",
        "        # Plot digit 0\n",
        "        axes[0, i].imshow(images_0[i].reshape(28, 28), cmap=\"gray\")\n",
        "        axes[0, i].set_title(\"Label: 0\")\n",
        "        axes[0, i].axis(\"off\")\n",
        "        # Plot digit 1\n",
        "        axes[1, i].imshow(images_1[i].reshape(28, 28), cmap=\"gray\")\n",
        "        axes[1, i].set_title(\"Label: 1\")\n",
        "        axes[1, i].axis(\"off\")\n",
        "    plt.suptitle(\"First 5 Images of 0 and 1 from MNIST Subset\")\n",
        "    plt.show()"
      ],
      "metadata": {
        "colab": {
          "base_uri": "https://localhost:8080/",
          "height": 503
        },
        "id": "XKY2qjhCHAZ7",
        "outputId": "384ce042-86c6-439c-d939-5d3c0fc79678"
      },
      "execution_count": 7,
      "outputs": [
        {
          "output_type": "stream",
          "name": "stdout",
          "text": [
            "Number of images labeled 0: 5923\n",
            "Number of images labeled 1: 6742\n",
            "Axes shape: (2, 5)\n"
          ]
        },
        {
          "output_type": "display_data",
          "data": {
            "text/plain": [
              "<Figure size 1000x500 with 10 Axes>"
            ],
            "image/png": "[encoded data removed]"
          },
          "metadata": {}
        }
      ]
    },
    {
      "cell_type": "markdown",
      "source": [
        "## Step - 3 - Initializing the Weights:"
      ],
      "metadata": {
        "id": "qyM34tbHIqGi"
      }
    },
    {
      "cell_type": "code",
      "source": [
        "# Initialize weights and bias\n",
        "weights = np.zeros(X.shape[1])  # 784 weights (one for each pixel)\n",
        "bias = 0\n",
        "learning_rate = 0.1\n",
        "epochs = 100"
      ],
      "metadata": {
        "id": "SMsXaZ38HfBI"
      },
      "execution_count": 8,
      "outputs": []
    },
    {
      "cell_type": "markdown",
      "source": [
        "3. What does the weights array represent in this context?\n",
        "\n",
        "**Answer:** The weights array (shape (784,)) signifies the significance of each pixel in classifying an image as a 3 (0) or 5 (1). Each value represents a pixel's influence on the decision-making process.\n",
        "\n",
        "4. Why are we initializing the weights to zero? What effect could this have on the training process\n",
        "\n",
        "**Answer:** We set the weights to zero for simplicity and impartiality, assuming no initial bias. While this may slow convergence if the optimal weights are significantly different from zero, the Perceptron will update them during training as long as the data is linearly separable."
      ],
      "metadata": {
        "id": "ILwfzBSUzCLS"
      }
    },
    {
      "cell_type": "markdown",
      "source": [
        "## Step - 4 - Make a Decision function:"
      ],
      "metadata": {
        "id": "EvraDxaeRVeo"
      }
    },
    {
      "cell_type": "code",
      "source": [
        "import numpy as np\n",
        "\n",
        "def decision_function(X, weights, bias):\n",
        "    \"\"\"\n",
        "    Compute the predicted labels for the input data.\n",
        "\n",
        "    Parameters:\n",
        "    - X: Features (input data) as a numpy array of shape (n_samples, n_features)\n",
        "    - weights: Updated weights after training\n",
        "    - bias: Updated bias after training\n",
        "\n",
        "    Returns:\n",
        "    - y_pred_all: The predicted labels for the input data\n",
        "    \"\"\"\n",
        "    predictions = np.dot(X, weights) + bias\n",
        "    #####Your Code Here############  # Activation function (step function)\n",
        "    y_pred_all = np.where(predictions >= 0, 1, 0)\n",
        "    return y_pred_all"
      ],
      "metadata": {
        "id": "6uVj75txLWQi"
      },
      "execution_count": 9,
      "outputs": []
    },
    {
      "cell_type": "markdown",
      "source": [
        "## Step - 5 - Implement the Perceptron Learning Algorithm"
      ],
      "metadata": {
        "id": "AVZNGyRdI4I4"
      }
    },
    {
      "cell_type": "code",
      "source": [
        "def train_perceptron(X, y, weights, bias, learning_rate=0.1, epochs=100):\n",
        "    \"\"\"\n",
        "    Train the perceptron using the Perceptron Learning Algorithm.\n",
        "\n",
        "    Parameters:\n",
        "    - X: Features (input data) as a numpy array of shape (n_samples, n_features)\n",
        "    - y: Labels (true output) as a numpy array of shape (n_samples,)\n",
        "    - weights: Initial weights as a numpy array of shape (n_features,)\n",
        "    - bias: Initial bias value (scalar)\n",
        "    - learning_rate: Learning rate for weight updates (default is 0.1)\n",
        "    - epochs: Number of iterations to train the model (default is 100)\n",
        "\n",
        "    Returns:\n",
        "    - weights: Updated weights after training\n",
        "    - bias: Updated bias after training\n",
        "    - accuracy: Total correct prediction.\n",
        "    \"\"\"\n",
        "    # Step 3: Perceptron Learning Algorithm\n",
        "    for epoch in range(epochs):\n",
        "        # Make predictions for all samples using the decision function\n",
        "        y_pred = decision_function(X, weights, bias)\n",
        "\n",
        "        # Update weights and bias based on prediction errors\n",
        "        for i in range(len(y)):\n",
        "            # Calculate error: difference between true label and predicted label\n",
        "            error = y[i] - y_pred[i]\n",
        "            # Update weights: w = w + learning_rate * error * x_i\n",
        "            weights += learning_rate * error * X[i]\n",
        "            # Update bias: b = b + learning_rate * error\n",
        "            bias += learning_rate * error\n",
        "\n",
        "        # Calculate accuracy for this epoch\n",
        "        accuracy = np.mean(y_pred == y)\n",
        "        # Optional: Print accuracy every 10 epochs for monitoring\n",
        "        if (epoch + 1) % 10 == 0:\n",
        "            print(f\"Epoch {epoch + 1}: Accuracy = {accuracy:.4f}\")\n",
        "\n",
        "    # Return the updated weights, bias, and final accuracy\n",
        "    return weights, bias, accuracy"
      ],
      "metadata": {
        "id": "Dg1ocrycJWpA"
      },
      "execution_count": 10,
      "outputs": []
    },
    {
      "cell_type": "markdown",
      "source": [
        "5. What is the purpose of the output = np.dot(X[i], weights) + bias line?\n",
        "\n",
        "**Answer:** This line calculates the weighted sum of the input features (X[i]) and weights, adding the bias, to obtain the raw score before applying the step function for classification.\n",
        "\n",
        "6. What happens when the prediction is wrong? How are the weights and bias updated?\n",
        "\n",
        "**Answer:** When the prediction is wrong, error = y[i] - y_pred[i] is non-zero (1 or -1). Weights are updated as weights += learning_rate * error * X[i] and bias as bias += learning_rate * error, shifting the decision boundary toward the correct class.\n",
        "\n",
        "7. Why is the final accuracy important, and what do you expect it to be?\n",
        "\n",
        "**Answer:** Final accuracy evaluates the model's effectiveness in distinguishing between 0s and 1s."
      ],
      "metadata": {
        "id": "VflfdF8gzi9Y"
      }
    },
    {
      "cell_type": "markdown",
      "source": [
        "## Training the Perceptron"
      ],
      "metadata": {
        "id": "Va6AGI6iMAG9"
      }
    },
    {
      "cell_type": "code",
      "source": [
        "# After training the model with the perceptron_learning_algorithm\n",
        "weights, bias, accuracy = train_perceptron(X, y, weights, bias)\n",
        "\n",
        "# Evaluate the model using the new function\n",
        "print(\"The Final Accuracy is: \", accuracy)"
      ],
      "metadata": {
        "colab": {
          "base_uri": "https://localhost:8080/"
        },
        "id": "cn8XBYuZLswI",
        "outputId": "b69c9787-b738-4856-c637-b54fad34f63a"
      },
      "execution_count": 11,
      "outputs": [
        {
          "output_type": "stream",
          "name": "stdout",
          "text": [
            "Epoch 10: Accuracy = 0.9934\n",
            "Epoch 20: Accuracy = 0.9954\n",
            "Epoch 30: Accuracy = 0.9963\n",
            "Epoch 40: Accuracy = 0.9966\n",
            "Epoch 50: Accuracy = 0.9968\n",
            "Epoch 60: Accuracy = 0.9970\n",
            "Epoch 70: Accuracy = 0.9972\n",
            "Epoch 80: Accuracy = 0.9972\n",
            "Epoch 90: Accuracy = 0.9972\n",
            "Epoch 100: Accuracy = 0.9974\n",
            "The Final Accuracy is:  0.9973943939992104\n"
          ]
        }
      ]
    },
    {
      "cell_type": "markdown",
      "source": [
        "## Step 6: Visualize Misclassified Images"
      ],
      "metadata": {
        "id": "-SLq1jbSMKPm"
      }
    },
    {
      "cell_type": "code",
      "source": [
        "# Get predictions for all data points\n",
        "predictions = np.dot(X, weights) + bias\n",
        "y_pred = np.where(predictions >= 0, 1, 0)\n",
        "\n",
        "# Calculate final accuracy\n",
        "final_accuracy = np.mean(y_pred == y)\n",
        "print(f\"Final Accuracy: {final_accuracy:.4f}\")\n",
        "\n",
        "# Step 5: Visualize Misclassified Images\n",
        "misclassified_idx = np.where(y_pred != y)[0]\n",
        "if len(misclassified_idx) > 0:\n",
        "    fig, axes = plt.subplots(2, 5, figsize=(10, 5))\n",
        "    for ax, idx in zip(axes.flat, misclassified_idx[:10]):  # Show 10 misclassified images\n",
        "        ax.imshow(X[idx].reshape(28, 28), cmap=\"gray\")\n",
        "        ax.set_title(f\"Pred: {y_pred[idx]}, True: {y[idx]}\")\n",
        "        ax.axis(\"off\")\n",
        "    plt.suptitle(\"Misclassified Images\")\n",
        "    plt.show()\n",
        "else:\n",
        "    print(\"All images were correctly classified!\")"
      ],
      "metadata": {
        "colab": {
          "base_uri": "https://localhost:8080/",
          "height": 468
        },
        "id": "KAMz1RPGMN_A",
        "outputId": "cd4425a4-9b9e-48e1-c892-ba7562d75714"
      },
      "execution_count": 12,
      "outputs": [
        {
          "output_type": "stream",
          "name": "stdout",
          "text": [
            "Final Accuracy: 0.9974\n"
          ]
        },
        {
          "output_type": "display_data",
          "data": {
            "text/plain": [
              "<Figure size 1000x500 with 10 Axes>"
            ],
            "image/png": "[encoded data removed]"
          },
          "metadata": {}
        }
      ]
    },
    {
      "cell_type": "markdown",
      "source": [
        "8. What does misclassified_idx store, and how is it used in this code?\n",
        "\n",
        "**Answer:** Misclassified_idx stores the indices of samples where y_pred != y_binary. It’s used to select and plot up to 10 misclassified images for visual inspection.\n",
        "\n",
        "9. How do you interpret the result if the output is ”All images were correctly classified!”?\n",
        "\n",
        "**Answer:** It means the Perceptron perfectly separated 3s and 5s (100% accuracy), suggesting the dataset is linearly separable or small and simple."
      ],
      "metadata": {
        "id": "-trNpeYn2J_H"
      }
    },
    {
      "cell_type": "markdown",
      "source": [
        "## Perceptron Algorithm for 3 vs 5 Classification"
      ],
      "metadata": {
        "id": "wkRepqGUtLMo"
      }
    },
    {
      "cell_type": "code",
      "source": [
        "import pandas as pd\n",
        "import numpy as np\n",
        "import matplotlib.pyplot as plt\n",
        "\n",
        "\n",
        "# Load the dataset\n",
        "df_3_5 = pd.read_csv(\"/content/drive/MyDrive/AI&ML/WEEK3/mnist_3_and_5.csv\")  # Add the correct file path if necessary\n",
        "\n",
        "# Extract features and labels\n",
        "X = df_3_5.drop(columns=[\"label\"])  # 784 pixels\n",
        "y = df_3_5[\"label\"].values  # Labels (0 or 1)\n",
        "\n",
        "# Convert labels to binary: 3 -> 0, 5 -> 1\n",
        "y_binary = np.where(y == 3, 0, 1)\n",
        "\n",
        "# Check the shape of the features and labels\n",
        "print(\"Feature matrix shape:\", X.shape)\n",
        "print(\"Label vector shape:\", y.shape)\n",
        "print(\"Unique labels in y:\", np.unique(y))  # Should show [3, 5]\n",
        "print(\"Unique labels in y_binary:\", np.unique(y_binary))  # Should show [0, 1]"
      ],
      "metadata": {
        "id": "CeEDo-9gNknE",
        "colab": {
          "base_uri": "https://localhost:8080/"
        },
        "outputId": "21e9d132-b8d9-42cf-8075-da299515e6aa"
      },
      "execution_count": 13,
      "outputs": [
        {
          "output_type": "stream",
          "name": "stdout",
          "text": [
            "Feature matrix shape: (2741, 784)\n",
            "Label vector shape: (2741,)\n",
            "Unique labels in y: [3 5]\n",
            "Unique labels in y_binary: [0 1]\n"
          ]
        }
      ]
    },
    {
      "cell_type": "markdown",
      "source": [
        "## Step - 1 Viewing the Dataset"
      ],
      "metadata": {
        "id": "U0a1AKmGtq2a"
      }
    },
    {
      "cell_type": "code",
      "source": [
        "\n",
        "# Extract features and labels\n",
        "X = df_3_5.drop(columns=[\"label\"]).values  # 784 pixels\n",
        "y = df_3_5[\"label\"].values  # Labels (3 or 5)\n",
        "\n",
        "# Convert labels to binary: 3 -> 0, 5 -> 1\n",
        "y_binary = np.where(y == 3, 0, 1)\n",
        "\n",
        "# Check the shape of the features and labels\n",
        "print(\"Feature matrix shape:\", X.shape)\n",
        "print(\"Label vector shape:\", y.shape)\n",
        "print(\"Unique labels in y:\", np.unique(y))\n",
        "\n",
        "# Separate images for label 3 and label 5\n",
        "images_3 = X[y == 3]  # Get all images with label 3\n",
        "images_5 = X[y == 5]  # Get all images with label 5\n",
        "\n",
        "# Check the number of images available\n",
        "print(\"Number of images labeled 3:\", len(images_3))\n",
        "print(\"Number of images labeled 5:\", len(images_5))\n",
        "\n",
        "# Create subplots to visualize the first 5 images\n",
        "fig, axes = plt.subplots(2, 5, figsize=(10, 5))\n",
        "if len(images_3) < 5 or len(images_5) < 5:\n",
        "    print(\"Error: Not enough images in images_3 or images_5 to plot 5 images.\")\n",
        "else:\n",
        "    for i in range(5):\n",
        "        # Plot digit 3\n",
        "        axes[0, i].imshow(images_3[i].reshape(28, 28), cmap=\"gray\")\n",
        "        axes[0, i].set_title(\"Label: 3\")\n",
        "        axes[0, i].axis(\"off\")\n",
        "        # Plot digit 5\n",
        "        axes[1, i].imshow(images_5[i].reshape(28, 28), cmap=\"gray\")\n",
        "        axes[1, i].set_title(\"Label: 5\")\n",
        "        axes[1, i].axis(\"off\")\n",
        "    plt.suptitle(\"First 5 Images of 3 and 5 from MNIST Subset\")\n",
        "    plt.show()"
      ],
      "metadata": {
        "colab": {
          "base_uri": "https://localhost:8080/",
          "height": 538
        },
        "id": "yAmwX5hztoS4",
        "outputId": "8d314121-e629-4350-938e-a9d600055ece"
      },
      "execution_count": 14,
      "outputs": [
        {
          "output_type": "stream",
          "name": "stdout",
          "text": [
            "Feature matrix shape: (2741, 784)\n",
            "Label vector shape: (2741,)\n",
            "Unique labels in y: [3 5]\n",
            "Number of images labeled 3: 1484\n",
            "Number of images labeled 5: 1257\n"
          ]
        },
        {
          "output_type": "display_data",
          "data": {
            "text/plain": [
              "<Figure size 1000x500 with 10 Axes>"
            ],
            "image/png": "[encoded data removed]"
          },
          "metadata": {}
        }
      ]
    },
    {
      "cell_type": "markdown",
      "source": [
        "## Step - 2 - Initializing the Weights:"
      ],
      "metadata": {
        "id": "wDDlbGhPxmRI"
      }
    },
    {
      "cell_type": "code",
      "source": [
        "# Initialize weights and bias\n",
        "weights = np.zeros(X.shape[1])  # 784 weights (one for each pixel)\n",
        "bias = 0\n",
        "learning_rate = 0.1\n",
        "epochs = 100"
      ],
      "metadata": {
        "id": "3sR0kQ2vuefu"
      },
      "execution_count": 15,
      "outputs": []
    },
    {
      "cell_type": "markdown",
      "source": [
        "## Step - 3 - Make a Decision function:"
      ],
      "metadata": {
        "id": "huHaX_gbxqqn"
      }
    },
    {
      "cell_type": "code",
      "source": [
        "# Define the decision function\n",
        "def decision_function(X, weights, bias):\n",
        "    \"\"\"\n",
        "    Compute the predicted labels for the input data.\n",
        "\n",
        "    Parameters:\n",
        "    - X: Features (input data) as a numpy array of shape (n_samples, n_features)\n",
        "    - weights: Updated weights after training\n",
        "    - bias: Updated bias after training\n",
        "\n",
        "    Returns:\n",
        "    - y_pred_all: The predicted labels for the input data\n",
        "    \"\"\"\n",
        "    predictions = np.dot(X, weights) + bias\n",
        "    y_pred_all = np.where(predictions >= 0, 1, 0)  # Activation function (step function)\n",
        "    return y_pred_all"
      ],
      "metadata": {
        "id": "UzFOE4EOuhjN"
      },
      "execution_count": 16,
      "outputs": []
    },
    {
      "cell_type": "markdown",
      "source": [
        "## Step - 4 - Implement the Perceptron Learning Algorithm"
      ],
      "metadata": {
        "id": "Y5-beyUcx0bd"
      }
    },
    {
      "cell_type": "code",
      "source": [
        "# Define the training function\n",
        "def train_perceptron(X, y, weights, bias, learning_rate=0.1, epochs=100):\n",
        "    \"\"\"\n",
        "    Train the perceptron using the Perceptron Learning Algorithm.\n",
        "\n",
        "    Parameters:\n",
        "    - X: Features (input data) as a numpy array of shape (n_samples, n_features)\n",
        "    - y: Labels (true output) as a numpy array of shape (n_samples,)\n",
        "    - weights: Initial weights as a numpy array of shape (n_features,)\n",
        "    - bias: Initial bias value (scalar)\n",
        "    - learning_rate: Learning rate for weight updates (default is 0.1)\n",
        "    - epochs: Number of iterations to train the model (default is 100)\n",
        "\n",
        "    Returns:\n",
        "    - weights: Updated weights after training\n",
        "    - bias: Updated bias after training\n",
        "    - accuracy: Total correct prediction.\n",
        "    \"\"\"\n",
        "    # Step 3: Perceptron Learning Algorithm\n",
        "    for epoch in range(epochs):\n",
        "        y_pred = decision_function(X, weights, bias)\n",
        "        for i in range(len(y)):\n",
        "            error = y[i] - y_pred[i]\n",
        "            weights += learning_rate * error * X[i]\n",
        "            bias += learning_rate * error\n",
        "        accuracy = np.mean(y_pred == y)\n",
        "        if (epoch + 1) % 10 == 0:\n",
        "            print(f\"Epoch {epoch + 1}: Accuracy = {accuracy:.4f}\")\n",
        "    return weights, bias, accuracy"
      ],
      "metadata": {
        "id": "wT_mQJrtuiQ7"
      },
      "execution_count": 17,
      "outputs": []
    },
    {
      "cell_type": "markdown",
      "source": [
        "## Step - 5 - Training the Perceptron"
      ],
      "metadata": {
        "id": "uFybxaFHx-ZW"
      }
    },
    {
      "cell_type": "code",
      "source": [
        "# Train the model with the perceptron learning algorithm for 3 vs. 5\n",
        "weights, bias, accuracy = train_perceptron(X, y_binary, weights, bias)\n",
        "\n",
        "# Evaluate the model\n",
        "print(\"The Final Accuracy for 3 vs. 5 is: \", accuracy)"
      ],
      "metadata": {
        "colab": {
          "base_uri": "https://localhost:8080/"
        },
        "id": "yPBcLv4KulR3",
        "outputId": "c9935e32-0818-48d4-b62b-6e599d5811da"
      },
      "execution_count": 18,
      "outputs": [
        {
          "output_type": "stream",
          "name": "stdout",
          "text": [
            "Epoch 10: Accuracy = 0.9175\n",
            "Epoch 20: Accuracy = 0.9391\n",
            "Epoch 30: Accuracy = 0.9445\n",
            "Epoch 40: Accuracy = 0.9482\n",
            "Epoch 50: Accuracy = 0.9580\n",
            "Epoch 60: Accuracy = 0.9489\n",
            "Epoch 70: Accuracy = 0.9445\n",
            "Epoch 80: Accuracy = 0.9511\n",
            "Epoch 90: Accuracy = 0.9580\n",
            "Epoch 100: Accuracy = 0.9595\n",
            "The Final Accuracy for 3 vs. 5 is:  0.9595038307187158\n"
          ]
        }
      ]
    },
    {
      "cell_type": "markdown",
      "source": [
        "## Step 6: Visualize Misclassified Images"
      ],
      "metadata": {
        "id": "RH8kSC0Pwy1A"
      }
    },
    {
      "cell_type": "code",
      "source": [
        "# Get predictions for all data points\n",
        "predictions = np.dot(X, weights) + bias\n",
        "y_pred = np.where(predictions >= 0, 1, 0)\n",
        "\n",
        "# Calculate final accuracy\n",
        "final_accuracy = np.mean(y_pred == y)\n",
        "print(f\"Final Accuracy: {accuracy:.4f}\")\n",
        "\n",
        "# Step 5: Visualize Misclassified Images\n",
        "misclassified_idx = np.where(y_pred != y)[0]\n",
        "if len(misclassified_idx) > 0:\n",
        "    fig, axes = plt.subplots(2, 5, figsize=(10, 5))\n",
        "    for ax, idx in zip(axes.flat, misclassified_idx[:10]):  # Show 10 misclassified images\n",
        "        ax.imshow(X[idx].reshape(28, 28), cmap=\"gray\")\n",
        "        ax.set_title(f\"Pred: {y_pred[idx]}, True: {y[idx]}\")\n",
        "        ax.axis(\"off\")\n",
        "    plt.suptitle(\"Misclassified Images\")\n",
        "    plt.show()\n",
        "else:\n",
        "    print(\"All images were correctly classified!\")"
      ],
      "metadata": {
        "colab": {
          "base_uri": "https://localhost:8080/",
          "height": 468
        },
        "id": "7ME5o_18wejj",
        "outputId": "895b5ca0-7fd4-479f-a19f-b3a3ad467c9e"
      },
      "execution_count": 19,
      "outputs": [
        {
          "output_type": "stream",
          "name": "stdout",
          "text": [
            "Final Accuracy: 0.9595\n"
          ]
        },
        {
          "output_type": "display_data",
          "data": {
            "text/plain": [
              "<Figure size 1000x500 with 10 Axes>"
            ],
            "image/png": "[encoded data removed]"
          },
          "metadata": {}
        }
      ]
    }
  ]
}