{
  "nbformat": 4,
  "nbformat_minor": 0,
  "metadata": {
    "colab": {
      "provenance": []
    },
    "kernelspec": {
      "name": "python3",
      "display_name": "Python 3"
    },
    "language_info": {
      "name": "python"
    }
  },
  "cells": [
    {
      "cell_type": "markdown",
      "source": [
        "#NAME: SARAN ADHIKARI\n",
        "#UNIVERSITY ID: 2329794\n",
        "\n",
        "#WORKSHEET0"
      ],
      "metadata": {
        "id": "yXo4XSxfWPAe"
      }
    },
    {
      "cell_type": "markdown",
      "source": [
        "#EXERCISE ON FUNCTIONS\n"
      ],
      "metadata": {
        "id": "6vVH2QaqWHBW"
      }
    },
    {
      "cell_type": "markdown",
      "source": [
        "Task-1\n",
        "\n",
        "Create a Python program that converts between different units of measurement.\n",
        "• The program should:\n",
        "1. Prompt the user to choose the type of conversion (e.g., length, weight, volume).\n",
        "2. Ask the user to input the value to be converted.\n",
        "3. Perform the conversion and display the result.\n",
        "4. Handle potential errors, such as invalid input or unsupported conversion types.\n",
        "\n",
        "\n",
        "• Requirements:\n",
        "1. Functions: Define at least one function to perform the conversion.\n",
        "2. Error Handling: Use try-except blocks to handle invalid input (e.g., non-numeric values).\n",
        "3. User Input: Prompt the user to select the conversion type and input the value.\n",
        "4. Docstrings: Include a docstring in your function to describe its purpose, parameters, and\n",
        "return value.\n",
        "\n",
        "\n",
        "• Conversion Options:\n",
        "1. Length:\n",
        "– Convert meters (m) to feet (ft).\n",
        "– Convert feet (ft) to meters (m).\n",
        "2. Weight:\n",
        "– Convert kilograms (kg) to pounds (lbs).\n",
        "– Convert pounds (lbs) to kilograms (kg).\n",
        "3. Volume:\n",
        "– Convert liters (L) to gallons (gal).\n",
        "– Convert gallons (gal) to liters (L)."
      ],
      "metadata": {
        "id": "9aclkDJ9Wgfr"
      }
    },
    {
      "cell_type": "code",
      "execution_count": 1,
      "metadata": {
        "id": "dm3IrCNLVgO5"
      },
      "outputs": [],
      "source": [
        "def convert_len(val,unit):\n",
        "  if unit == \"m\":\n",
        "    return val * 3.28084 #convert into ft\n",
        "  elif unit == \"ft\":\n",
        "    return val / 3.28084 #convert into m\n",
        "  else:\n",
        "    raise ValueError(\"Unsupported length unit.\")"
      ]
    },
    {
      "cell_type": "code",
      "source": [
        "def convert_wt(val, unit):\n",
        "  if unit == \"kg\":\n",
        "    return val * 2.20462 #convert into lbs\n",
        "  elif unit == \"lbs\":\n",
        "    return val / 2.20462 #convert into kg\n",
        "  else:\n",
        "    raise ValueError(\"Unsupported weight unit.\")"
      ],
      "metadata": {
        "id": "pvr8T0JoW8dc"
      },
      "execution_count": 2,
      "outputs": []
    },
    {
      "cell_type": "code",
      "source": [
        "def convert_vol(val,unit):\n",
        "  if unit == \"L\":\n",
        "    return val * 3.78541 #convert into gal\n",
        "  elif unit == \"gal\":\n",
        "    return val / 3.78541 #convert into L\n",
        "  else:\n",
        "    raise ValueError(\"Unsupported volume unit.\")"
      ],
      "metadata": {
        "id": "NDoZq8b_W_q6"
      },
      "execution_count": 3,
      "outputs": []
    },
    {
      "cell_type": "code",
      "source": [
        "print(\"Choose Unit Converter!\")\n",
        "print(\"1. Length Converter\")\n",
        "print(\"2. Weight Converter\")\n",
        "print(\"3. Volume Converter\")\n",
        "\n",
        "try:\n",
        "  option = int(input(\"Enter your choice (1/2/3): \"))\n",
        "  val = input(\"Enter the value to convert: \")\n",
        "  val = float(val)\n",
        "\n",
        "  if option == 1:\n",
        "    unit = input(\"Enter the unit (m/ft): \")\n",
        "    result = convert_len(val, unit)\n",
        "    new_unit = \"ft\" if unit == \"m\" else \"m\"\n",
        "    print(f\"{val} {unit} is equal to {result} {new_unit}.\")\n",
        "\n",
        "  elif option == 2:\n",
        "    unit = input(\"Enter the unit (kg/lbs): \")\n",
        "    result = convert_wt(val, unit)\n",
        "    new_unit = \"lbs\" if unit == \"kg\" else \"kg\"\n",
        "    print(f\"{val} {unit} is equal to {result} {new_unit}.\")\n",
        "\n",
        "  elif option == 3:\n",
        "    unit = input(\"Enter the unit (L/gal): \")\n",
        "    result = convert_vol(val, unit)\n",
        "    new_unit = \"gal\" if unit == \"L\" else \"L\"\n",
        "    print(f\"{val} {unit} is equal to {result} {new_unit}.\")\n",
        "  else:\n",
        "    print(\"Invalid choice.\")\n",
        "\n",
        "except ValueError as e:\n",
        "  print(f\"Error: {e}\")\n",
        "except Exception:\n",
        "  print(\"An unexpected error occurred.\")"
      ],
      "metadata": {
        "colab": {
          "base_uri": "https://localhost:8080/"
        },
        "id": "8wbtO7GsXL2G",
        "outputId": "dcfbb112-41d1-4ec0-9b0b-e461e61fb3e2"
      },
      "execution_count": 4,
      "outputs": [
        {
          "output_type": "stream",
          "name": "stdout",
          "text": [
            "Choose Unit Converter!\n",
            "1. Length Converter\n",
            "2. Weight Converter\n",
            "3. Volume Converter\n",
            "Enter your choice (1/2/3): 2\n",
            "Enter the value to convert: 40\n",
            "Enter the unit (kg/lbs): kg\n",
            "40.0 kg is equal to 88.1848 lbs.\n"
          ]
        }
      ]
    },
    {
      "cell_type": "markdown",
      "source": [
        "Task-2\n",
        "\n",
        "Create a Python program that performs various mathematical operations on a list of numbers.\n",
        "\n",
        "\n",
        "• The Program should:\n",
        "1. Prompt the user to choose an operation (e.g., find the sum, average, maximum, or minimum\n",
        "of the numbers).\n",
        "2. Ask the user to input a list of numbers (separated by spaces).\n",
        "\n",
        "\n",
        "3. Perform the selected operation and display the result.\n",
        "4. Handle potential errors, such as invalid input or empty lists.\n",
        "\n",
        "\n",
        "• Requirements:\n",
        "\n",
        "1. Functions: Define at least one function for each operation (sum, average, maximum, mini-\n",
        "mum).\n",
        "\n",
        "2. Error Handling: Use try-except blocks to handle invalid input (e.g., non-numeric values or\n",
        "empty lists).\n",
        "3. User Input: Prompt the user to select the operation and input the list of numbers.\n",
        "4. Docstrings: Include a docstring in each function to describe its purpose, parameters, and\n",
        "return value."
      ],
      "metadata": {
        "id": "nznciwVZaq3I"
      }
    },
    {
      "cell_type": "code",
      "source": [
        "def calculate_sum(nums):\n",
        "  return sum(nums)"
      ],
      "metadata": {
        "id": "f53hzV3-asHw"
      },
      "execution_count": 5,
      "outputs": []
    },
    {
      "cell_type": "code",
      "source": [
        "def average(nums):\n",
        "  if not nums:\n",
        "    raise ValueError(\"List is empty.\")\n",
        "  return sum(nums) / len(nums)"
      ],
      "metadata": {
        "id": "9j1ZyzwpbDc8"
      },
      "execution_count": 6,
      "outputs": []
    },
    {
      "cell_type": "code",
      "source": [
        "def maximum(nums):\n",
        "  if not nums:\n",
        "    raise ValueError(\"List is empty.\")\n",
        "  return max(nums)"
      ],
      "metadata": {
        "id": "_Yrk7jk0bKKq"
      },
      "execution_count": 7,
      "outputs": []
    },
    {
      "cell_type": "code",
      "source": [
        "def min(nums):\n",
        "  if not nums:\n",
        "    raise ValueError(\"List is empty.\")\n",
        "  return min(nums)"
      ],
      "metadata": {
        "id": "my_zD4_AbSC5"
      },
      "execution_count": 8,
      "outputs": []
    },
    {
      "cell_type": "code",
      "source": [
        "print(\"Mathematical Operations!\")\n",
        "print(\"Choose an operation\")\n",
        "print(\"1. Addition\")\n",
        "print(\"2. Average\")\n",
        "print(\"3. Maximum\")\n",
        "print(\"4. Minimum\")\n",
        "\n",
        "try:\n",
        "  option = int(input(\"Enter your choice (1/2/3/4): \"))\n",
        "  nums = input(\"Enter a list of numbers separated by spaces: \")\n",
        "  nums = [float(num) for num in nums.split()]\n",
        "\n",
        "  if not nums:\n",
        "    raise ValueError(\"List is empty.\")\n",
        "\n",
        "  elif option < 1 or option > 4:\n",
        "    print(\"Invalid choice.\")\n",
        "\n",
        "  elif option == 1:\n",
        "    result = calculate_sum(nums)\n",
        "    print(f\"The sum of the numbers is: {result}\")\n",
        "\n",
        "  elif option == 2:\n",
        "    result = average(nums)\n",
        "    print(f\"The average of the numbers is: {result}\")\n",
        "\n",
        "  elif option == 3:\n",
        "    result = maximum(nums)\n",
        "    print(f\"The maximum of the numbers is: {result}\")\n",
        "\n",
        "  elif option == 4:\n",
        "    result = min(nums)\n",
        "    print(f\"The minimum of the numbers is: {result}\")\n",
        "\n",
        "  else:\n",
        "    print(\"Invalid choice.\")\n",
        "\n",
        "except ValueError as e:\n",
        "  print(f\"Error: {e}\")\n",
        "except Exception:\n",
        "  print(\"An unexpected error occurred.\")\n"
      ],
      "metadata": {
        "colab": {
          "base_uri": "https://localhost:8080/"
        },
        "id": "QaV1xjajbb1b",
        "outputId": "aa0a46d5-6242-474e-e55b-392ce24b1476"
      },
      "execution_count": 9,
      "outputs": [
        {
          "output_type": "stream",
          "name": "stdout",
          "text": [
            "Mathematical Operations!\n",
            "Choose an operation\n",
            "1. Addition\n",
            "2. Average\n",
            "3. Maximum\n",
            "4. Minimum\n",
            "Enter your choice (1/2/3/4): 1\n",
            "Enter a list of numbers separated by spaces: 4 4 \n",
            "The sum of the numbers is: 8.0\n"
          ]
        }
      ]
    },
    {
      "cell_type": "markdown",
      "source": [
        "#EXERCISE ON LIST MANIPULATION"
      ],
      "metadata": {
        "id": "5rKtuIlEckCk"
      }
    },
    {
      "cell_type": "markdown",
      "source": [
        "TASK-1\n",
        "\n",
        "Write a Python function that extracts every other element from a list, starting from the first element.\n",
        "\n",
        "• Requirements:\n",
        "Define a function extract every other(lst) that takes a list lst as input and returns a\n",
        "new list containing every other element from the original list.\n",
        "Example: For the input [1, 2, 3, 4, 5, 6], the output should be [1, 3, 5]."
      ],
      "metadata": {
        "id": "4_SfmipIcvjD"
      }
    },
    {
      "cell_type": "code",
      "source": [
        "def extract_every_other(lst):\n",
        "  return lst[::2]"
      ],
      "metadata": {
        "id": "DZXcP4MKb0iw"
      },
      "execution_count": 10,
      "outputs": []
    },
    {
      "cell_type": "code",
      "source": [
        "example_list = [1,2,3,4,5,6]\n",
        "result = extract_every_other(example_list)\n",
        "print(result)"
      ],
      "metadata": {
        "colab": {
          "base_uri": "https://localhost:8080/"
        },
        "id": "weqhkg5zc_-e",
        "outputId": "5552f9dd-5944-4090-fd4c-a36cf26130f4"
      },
      "execution_count": 11,
      "outputs": [
        {
          "output_type": "stream",
          "name": "stdout",
          "text": [
            "[1, 3, 5]\n"
          ]
        }
      ]
    },
    {
      "cell_type": "markdown",
      "source": [
        "TASK-2\n",
        "\n",
        "Write a Python function that returns a sublist from a given list, starting from a specified index and\n",
        "ending at another specified index.\n",
        "\n",
        "• Requirements:\n",
        "\n",
        "Define a function get sublist(lst, start, end) that takes a list lst, a starting index\n",
        "start, and an ending index end as input and returns the sublist from start to end (inclusive).\n",
        "\n",
        "Example: For the input [1, 2, 3, 4, 5, 6] with start=2 and end=4, the output should\n",
        "be [3, 4, 5].\n"
      ],
      "metadata": {
        "id": "TNyUU_FTdFJP"
      }
    },
    {
      "cell_type": "code",
      "source": [
        "def get_sublist(lst,start,end):\n",
        "  return lst[start:end+1]"
      ],
      "metadata": {
        "id": "Yslv8McKdHon"
      },
      "execution_count": 12,
      "outputs": []
    },
    {
      "cell_type": "code",
      "source": [
        "example_list = [1,2,3,4,5,6]\n",
        "result = get_sublist(example_list,2,4)\n",
        "print(result)"
      ],
      "metadata": {
        "colab": {
          "base_uri": "https://localhost:8080/"
        },
        "id": "JMdNp4F6ddQc",
        "outputId": "595ea3d3-c19e-417c-c1ce-dedda9adfe70"
      },
      "execution_count": 13,
      "outputs": [
        {
          "output_type": "stream",
          "name": "stdout",
          "text": [
            "[3, 4, 5]\n"
          ]
        }
      ]
    },
    {
      "cell_type": "markdown",
      "source": [
        "TASK-3\n",
        "\n",
        "Write a Python function that reverses a list using slicing.\n",
        "\n",
        "• Requirements:\n",
        "Define a function reverse list(lst) that takes a list lst and returns a reversed list using\n",
        "slicing.\n",
        "\n",
        "Example: For the input [1, 2, 3, 4, 5], the output should be [5, 4, 3, 2, 1]."
      ],
      "metadata": {
        "id": "JWLpgvfednPN"
      }
    },
    {
      "cell_type": "code",
      "source": [
        "def reverse_list(lst):\n",
        "  return lst[::-1]"
      ],
      "metadata": {
        "id": "i0nu2ud0doTe"
      },
      "execution_count": 14,
      "outputs": []
    },
    {
      "cell_type": "code",
      "source": [
        "example_list = [1,2,3,4,5,6]\n",
        "result = reverse_list(example_list)\n",
        "print(result)"
      ],
      "metadata": {
        "colab": {
          "base_uri": "https://localhost:8080/"
        },
        "id": "D0pvDQ1QeHYl",
        "outputId": "f623b938-2dd3-4e2e-aefa-bb45d103ef19"
      },
      "execution_count": 15,
      "outputs": [
        {
          "output_type": "stream",
          "name": "stdout",
          "text": [
            "[6, 5, 4, 3, 2, 1]\n"
          ]
        }
      ]
    },
    {
      "cell_type": "markdown",
      "source": [
        "TASK-4\n",
        "\n",
        "Write a Python function that removes the first and last elements of a list and returns the resulting\n",
        "sublist.\n",
        "\n",
        "• Requirements:\n",
        "\n",
        "Define a function remove first last(lst) that takes a list lst and returns a sublist without\n",
        "the first and last elements using slicing.\n",
        "\n",
        "Example: For the input [1, 2, 3, 4, 5], the output should be [2, 3, 4]."
      ],
      "metadata": {
        "id": "_ZNXXmoleZeE"
      }
    },
    {
      "cell_type": "code",
      "source": [
        "def remove_first_last(lst):\n",
        "  return lst[1:-1] if len(lst) > 2 else []"
      ],
      "metadata": {
        "id": "GPu9oA2VebRD"
      },
      "execution_count": 16,
      "outputs": []
    },
    {
      "cell_type": "code",
      "source": [
        "example_list = [1,2,3,4,5,6]\n",
        "result = remove_first_last(example_list)\n",
        "print(result)"
      ],
      "metadata": {
        "colab": {
          "base_uri": "https://localhost:8080/"
        },
        "id": "ocFeediXenW1",
        "outputId": "1cc111cb-e010-4dd9-f259-661cae32acee"
      },
      "execution_count": 17,
      "outputs": [
        {
          "output_type": "stream",
          "name": "stdout",
          "text": [
            "[2, 3, 4, 5]\n"
          ]
        }
      ]
    },
    {
      "cell_type": "markdown",
      "source": [
        "TASK-5\n",
        "\n",
        "Write a Python function that extracts the first n elements from a list.\n",
        "\n",
        "• Requirements:\n",
        "\n",
        "Define a function get first n(lst, n) that takes a list lst and an integer n as input and\n",
        "returns the first n elements of the list using slicing.\n",
        "\n",
        "Example: For the input [1, 2, 3, 4, 5] with n=3, the output should be [1, 2, 3]."
      ],
      "metadata": {
        "id": "1V0FLvNdezPH"
      }
    },
    {
      "cell_type": "code",
      "source": [
        "def get_first_n(lst, n):\n",
        "  return lst[:n]"
      ],
      "metadata": {
        "id": "iMjVZTOQe00z"
      },
      "execution_count": 18,
      "outputs": []
    },
    {
      "cell_type": "code",
      "source": [
        "example_list = [1,2,3,4,5,6]\n",
        "result = get_first_n(example_list, 3)\n",
        "print(result)"
      ],
      "metadata": {
        "colab": {
          "base_uri": "https://localhost:8080/"
        },
        "id": "uo-J2ah8fDk9",
        "outputId": "e1007fe6-6997-4cf3-e0c3-cf52c850a09b"
      },
      "execution_count": 19,
      "outputs": [
        {
          "output_type": "stream",
          "name": "stdout",
          "text": [
            "[1, 2, 3]\n"
          ]
        }
      ]
    },
    {
      "cell_type": "markdown",
      "source": [
        "TASK-6\n",
        "\n",
        "Write a Python function that extracts the last n elements of a list using slicing.\n",
        "\n",
        "• Requirements:\n",
        "\n",
        "Define a function get last n(lst, n) that takes a list lst and an integer n as input and\n",
        "returns the last n elements of the list.\n",
        "\n",
        "Example: For the input [1, 2, 3, 4, 5] with n=2, the output should be [4, 5]."
      ],
      "metadata": {
        "id": "sqYNv0clfZBU"
      }
    },
    {
      "cell_type": "code",
      "source": [
        "def get_last_n(lst, n):\n",
        "  return  lst[n:] if n > 0 else []"
      ],
      "metadata": {
        "id": "oA9fm7wzfaGv"
      },
      "execution_count": 20,
      "outputs": []
    },
    {
      "cell_type": "code",
      "source": [
        "example_list = [1,2,3,4,5,6]\n",
        "result = get_last_n(example_list, 3)\n",
        "print(result)"
      ],
      "metadata": {
        "colab": {
          "base_uri": "https://localhost:8080/"
        },
        "id": "pFd5UDlLf27u",
        "outputId": "179c9ee3-e845-46e2-e360-6410f647bb10"
      },
      "execution_count": 21,
      "outputs": [
        {
          "output_type": "stream",
          "name": "stdout",
          "text": [
            "[4, 5, 6]\n"
          ]
        }
      ]
    },
    {
      "cell_type": "markdown",
      "source": [
        "TASK-7\n",
        "\n",
        "Write a Python function that extracts a list of elements in reverse order starting from the second-to-last\n",
        "element and skipping one element in between.\n",
        "\n",
        "• Requirements:\n",
        "\n",
        "Define a function reverse skip(lst) that takes a list lst and returns a new list containing\n",
        "every second element starting from the second-to-last, moving backward.\n",
        "\n",
        "Example: For the input [1, 2, 3, 4, 5, 6], the output should be [5, 3, 1]."
      ],
      "metadata": {
        "id": "KtQie9jYgNgG"
      }
    },
    {
      "cell_type": "code",
      "source": [
        "def reverse_skip(lst):\n",
        "  return lst[-2::-2]"
      ],
      "metadata": {
        "id": "2fjh3d2-gO1m"
      },
      "execution_count": 22,
      "outputs": []
    },
    {
      "cell_type": "code",
      "source": [
        "example_list = [1,2,3,4,5,6]\n",
        "result = reverse_skip(example_list)\n",
        "print(result)"
      ],
      "metadata": {
        "colab": {
          "base_uri": "https://localhost:8080/"
        },
        "id": "bP8O_FdlgXQR",
        "outputId": "96a98be6-10cf-43de-c0b0-f3bb2aafc0c7"
      },
      "execution_count": 23,
      "outputs": [
        {
          "output_type": "stream",
          "name": "stdout",
          "text": [
            "[5, 3, 1]\n"
          ]
        }
      ]
    },
    {
      "cell_type": "markdown",
      "source": [
        "#EXERCISE ON NESTED LIST"
      ],
      "metadata": {
        "id": "gYYkzquFghQw"
      }
    },
    {
      "cell_type": "markdown",
      "source": [
        "TASK-01\n",
        "\n",
        "Write a Python function that takes a nested list and flattens it into a single list, where all the elements\n",
        "are in a single dimension.\n",
        "\n",
        "• Requirements:\n",
        "\n",
        "Define a function flatten(lst) that takes a nested list lst and returns a flattened version\n",
        "of the list.\n",
        "\n",
        "Example: For the input [[1, 2], [3, 4], [5]], the output should be [1, 2, 3, 4, 5]."
      ],
      "metadata": {
        "id": "hlyu550hgmVE"
      }
    },
    {
      "cell_type": "code",
      "source": [
        "def flatten(lst):\n",
        "  flat_list = []\n",
        "  for sublist in lst:\n",
        "    flat_list.extend(sublist)\n",
        "  return flat_list"
      ],
      "metadata": {
        "id": "Bv5tCFbwgju9"
      },
      "execution_count": 24,
      "outputs": []
    },
    {
      "cell_type": "code",
      "source": [
        "example_list = [[1,2],[3,4],[5,6]]\n",
        "result = flatten(example_list)\n",
        "print(result)"
      ],
      "metadata": {
        "colab": {
          "base_uri": "https://localhost:8080/"
        },
        "id": "IzGt7jjihZ9h",
        "outputId": "ec63519d-0244-41bb-e64e-0b0252c2a6e1"
      },
      "execution_count": 25,
      "outputs": [
        {
          "output_type": "stream",
          "name": "stdout",
          "text": [
            "[1, 2, 3, 4, 5, 6]\n"
          ]
        }
      ]
    },
    {
      "cell_type": "markdown",
      "source": [
        "TASK-2\n",
        "\n",
        "Write a Python function that extracts a specific element from a nested list given its indices.\n",
        "\n",
        "• Requirements:\n",
        "\n",
        "Define a function access nested element(lst, indices) that takes a nested list lst and\n",
        "a list of indices indices, and returns the element at that position.\n",
        "\n",
        "Example: For the input lst = [[1, 2, 3], [4, 5, 6], [7, 8, 9]] with indices = [1,\n",
        "2], the output should be 6."
      ],
      "metadata": {
        "id": "8MKosrjPhqDu"
      }
    },
    {
      "cell_type": "code",
      "source": [
        "def nested_element(lst, indices):\n",
        "  element = lst\n",
        "  for index in indices:\n",
        "    element = element[index]\n",
        "  return element"
      ],
      "metadata": {
        "id": "b8L8_KwPhrMA"
      },
      "execution_count": 26,
      "outputs": []
    },
    {
      "cell_type": "code",
      "source": [
        "example_list = [[1, 2, 3], [4, 5, 6], [7, 8, 9]]\n",
        "indices = [1,2]\n",
        "result = nested_element(example_list, indices)\n",
        "print(result)"
      ],
      "metadata": {
        "colab": {
          "base_uri": "https://localhost:8080/"
        },
        "id": "hSktoVlbiA9M",
        "outputId": "a0287027-99c6-40ce-a6dd-9f1ef53d89a7"
      },
      "execution_count": 27,
      "outputs": [
        {
          "output_type": "stream",
          "name": "stdout",
          "text": [
            "6\n"
          ]
        }
      ]
    },
    {
      "cell_type": "markdown",
      "source": [
        "TASK-3\n",
        "\n",
        "Write a Python function that calculates the sum of all the numbers in a nested list (regardless of depth).\n",
        "\n",
        "• Requirements:\n",
        "\n",
        "Define a function sum nested(lst) that takes a nested list lst and returns the sum of all\n",
        "the elements.\n",
        "\n",
        "Example: For the input [[1, 2], [3, [4, 5]], 6], the output should be 21."
      ],
      "metadata": {
        "id": "3seUQVWckv88"
      }
    },
    {
      "cell_type": "code",
      "source": [
        "def nested_sum(lst):\n",
        "  total = 0\n",
        "  for item in lst:\n",
        "    if isinstance(item, list):\n",
        "      total += nested_sum(item)\n",
        "    else:\n",
        "      total += item\n",
        "  return total"
      ],
      "metadata": {
        "id": "WpzuytHJkycW"
      },
      "execution_count": 28,
      "outputs": []
    },
    {
      "cell_type": "code",
      "source": [
        "example_list = [[1, 2], [3, [4, 5]], 6]\n",
        "result = nested_sum(example_list)\n",
        "print(result)"
      ],
      "metadata": {
        "colab": {
          "base_uri": "https://localhost:8080/"
        },
        "id": "oeQDHbJ_lhiU",
        "outputId": "2655709d-5706-4cef-ddd7-67ec5c8eb7be"
      },
      "execution_count": 29,
      "outputs": [
        {
          "output_type": "stream",
          "name": "stdout",
          "text": [
            "21\n"
          ]
        }
      ]
    },
    {
      "cell_type": "markdown",
      "source": [
        "TASK-4\n",
        "\n",
        "Write a Python function that removes all occurrences of a specific element from a nested list.\n",
        "\n",
        "• Requirements:\n",
        "\n",
        "Define a function remove element(lst, elem) that removes elem from lst and returns the\n",
        "modified list.\n",
        "\n",
        "Example: For the input lst = [[1, 2], [3, 2], [4, 5]] and elem = 2, the output should\n",
        "be [[1], [3], [4, 5]]."
      ],
      "metadata": {
        "id": "RiAgfyK1lvIJ"
      }
    },
    {
      "cell_type": "code",
      "source": [
        "def remove_element(lst, element):\n",
        "  if isinstance(lst, list):\n",
        "    return [remove_element(sublist, element) for sublist in lst if sublist != element]\n",
        "  return lst"
      ],
      "metadata": {
        "id": "pAFtxc4wlxdq"
      },
      "execution_count": 30,
      "outputs": []
    },
    {
      "cell_type": "code",
      "source": [
        "example_list = [[1,2],[3,2],[4,5]]\n",
        "element_to_remove = 2\n",
        "result = remove_element(example_list, element_to_remove)\n",
        "print(result)"
      ],
      "metadata": {
        "colab": {
          "base_uri": "https://localhost:8080/"
        },
        "id": "cfrizQBKl_17",
        "outputId": "c09576f0-132d-44c8-ee4c-4d377b02151e"
      },
      "execution_count": 31,
      "outputs": [
        {
          "output_type": "stream",
          "name": "stdout",
          "text": [
            "[[1], [3], [4, 5]]\n"
          ]
        }
      ]
    },
    {
      "cell_type": "markdown",
      "source": [
        "TASK-5\n",
        "\n",
        "Write a Python function that finds the maximum element in a nested list (regardless of depth).\n",
        "\n",
        "• Requirements:\n",
        "\n",
        "Define a function find max(lst) that takes a nested list lst and returns the maximum\n",
        "element.\n",
        "\n",
        "Example: For the input [[1, 2], [3, [4, 5]], 6], the output should be 6."
      ],
      "metadata": {
        "id": "EoyQlv26mQxH"
      }
    },
    {
      "cell_type": "code",
      "source": [
        "def find_max(lst):\n",
        "  max_val = float('-inf')\n",
        "  for item in lst:\n",
        "    if isinstance(item, list):\n",
        "      max_val = max(max_val, find_max(item))\n",
        "    else:\n",
        "      max_val = max(max_val, item)\n",
        "  return max_val"
      ],
      "metadata": {
        "id": "Ia3jI0YUmR-Q"
      },
      "execution_count": 32,
      "outputs": []
    },
    {
      "cell_type": "code",
      "source": [
        "example_list = [[1, 2], [3, [4, 5]], 6]\n",
        "result = find_max(example_list)\n",
        "print(result)"
      ],
      "metadata": {
        "colab": {
          "base_uri": "https://localhost:8080/"
        },
        "id": "0GUqU53Fmq9s",
        "outputId": "984522b1-1f58-4c60-dd7b-ec6128838024"
      },
      "execution_count": 33,
      "outputs": [
        {
          "output_type": "stream",
          "name": "stdout",
          "text": [
            "6\n"
          ]
        }
      ]
    },
    {
      "cell_type": "markdown",
      "source": [
        "TASK-6\n",
        "\n",
        "Write a Python function that counts how many times a specific element appears in a nested list.\n",
        "\n",
        "• Requirements:\n",
        "\n",
        "Define a function count occurrences(lst, elem) that counts the occurrences of elem in\n",
        "the nested list lst.\n",
        "\n",
        "Example: For the input lst = [[1, 2], [2, 3], [2, 4]] and elem = 2, the output should\n",
        "be 3."
      ],
      "metadata": {
        "id": "d9kP5ST-mxYU"
      }
    },
    {
      "cell_type": "code",
      "source": [
        "def count_occurrences(lst, element):\n",
        "  count = 0\n",
        "  for item in lst:\n",
        "    if isinstance(item, list):\n",
        "      count += count_occurrences(item, element)\n",
        "    elif item == element:\n",
        "      count += 1\n",
        "  return count"
      ],
      "metadata": {
        "id": "RKh6Xd1Omyhd"
      },
      "execution_count": 34,
      "outputs": []
    },
    {
      "cell_type": "code",
      "source": [
        "example_list = [[1, 2], [2, 3], [2, 4]]\n",
        "element_to_count = 2\n",
        "result = count_occurrences(example_list, element_to_count)\n",
        "print(result)"
      ],
      "metadata": {
        "colab": {
          "base_uri": "https://localhost:8080/"
        },
        "id": "mOc0ID20nH-y",
        "outputId": "769ef722-c46b-4b03-e74b-5f08d2a018fe"
      },
      "execution_count": 35,
      "outputs": [
        {
          "output_type": "stream",
          "name": "stdout",
          "text": [
            "3\n"
          ]
        }
      ]
    },
    {
      "cell_type": "markdown",
      "source": [
        "TASK-7\n",
        "\n",
        "Write a Python function that flattens a list of lists of lists into a single list, regardless of the depth.\n",
        "\n",
        "• Requirements:\n",
        "\n",
        "Define a function deep flatten(lst) that takes a deeply nested list lst and returns a single\n",
        "flattened list.\n",
        "\n",
        "Example: For the input [[[1, 2], [3, 4]], [[5, 6], [7, 8]]], the output should be\n",
        "[1, 2, 3, 4, 5, 6, 7, 8]."
      ],
      "metadata": {
        "id": "VX-lJP0LnUM7"
      }
    },
    {
      "cell_type": "code",
      "source": [
        "def deep_flatten(lst):\n",
        "  flat_list = []\n",
        "  for item in lst:\n",
        "    if isinstance(item, list):\n",
        "      flat_list.extend(deep_flatten(item))\n",
        "    else:\n",
        "      flat_list.append(item)\n",
        "  return flat_list"
      ],
      "metadata": {
        "id": "9c0D2qOKnVVj"
      },
      "execution_count": 36,
      "outputs": []
    },
    {
      "cell_type": "code",
      "source": [
        "example_list = [[[1, 2], [3, 4]], [[5, 6], [7, 8]]]\n",
        "result = deep_flatten(example_list)\n",
        "print(result)"
      ],
      "metadata": {
        "colab": {
          "base_uri": "https://localhost:8080/"
        },
        "id": "Y8mBpxRMnp4a",
        "outputId": "909ad802-13b9-45ff-b0f6-2498fa9f0e93"
      },
      "execution_count": 37,
      "outputs": [
        {
          "output_type": "stream",
          "name": "stdout",
          "text": [
            "[1, 2, 3, 4, 5, 6, 7, 8]\n"
          ]
        }
      ]
    },
    {
      "cell_type": "markdown",
      "source": [
        "TASK-8\n",
        "\n",
        "Write a Python function that calculates the average of all elements in a nested list.\n",
        "\n",
        "• Requirements:\n",
        "\n",
        "Define a function average nested(lst) that takes a nested list lst and returns the average\n",
        "of all the elements.\n",
        "\n",
        "Example: For the input [[1, 2], [3, 4], [5, 6]], the output should be 3.5."
      ],
      "metadata": {
        "id": "RayUQH9Sn1SM"
      }
    },
    {
      "cell_type": "code",
      "source": [
        "def nested_avg(lst):\n",
        "  def flatten(lst):\n",
        "    flat_list = []\n",
        "    for item in lst:\n",
        "      if isinstance(item, list):\n",
        "        flat_list.extend(flatten(item))\n",
        "      else:\n",
        "        flat_list.append(item)\n",
        "    return flat_list\n",
        "  flat_list = flatten(lst)\n",
        "  return sum(flat_list) / len(flat_list) if flat_list else 0"
      ],
      "metadata": {
        "id": "SBnRjuujn2UN"
      },
      "execution_count": 38,
      "outputs": []
    },
    {
      "cell_type": "code",
      "source": [
        "example_list = [[1, 2], [3, 4], [5, 6]]\n",
        "result = nested_avg(example_list)\n",
        "print(result)"
      ],
      "metadata": {
        "colab": {
          "base_uri": "https://localhost:8080/"
        },
        "id": "8VxjMIYToLcQ",
        "outputId": "b3dd379a-81eb-4688-c7d7-c975a2d55263"
      },
      "execution_count": 39,
      "outputs": [
        {
          "output_type": "stream",
          "name": "stdout",
          "text": [
            "3.5\n"
          ]
        }
      ]
    },
    {
      "cell_type": "markdown",
      "source": [
        "#EXERCISE ON NUMPY"
      ],
      "metadata": {
        "id": "fj_U4cTgonn-"
      }
    },
    {
      "cell_type": "code",
      "source": [
        "import numpy as np"
      ],
      "metadata": {
        "id": "AH52lOWHpWAk"
      },
      "execution_count": 40,
      "outputs": []
    },
    {
      "cell_type": "markdown",
      "source": [
        "BASIC VECTOR AND MATRIX OPERATION WITH NumPy"
      ],
      "metadata": {
        "id": "HutNP8-_owwL"
      }
    },
    {
      "cell_type": "markdown",
      "source": [
        "PROBLEM-01\n",
        "\n",
        "Complete the following Tasks:\n",
        "1. Initialize an empty array with size 2X2.\n",
        "2. Initialize an all one array with size 4X2.\n",
        "3. Return a new array of given shape and type, filled with fill value.{Hint: np.full}\n",
        "4. Return a new array of zeros with same shape and type as a given array.{Hint: np.zeros like}\n",
        "5. Return a new array of ones with same shape and type as a given array.{Hint: np.ones like}\n",
        "6. For an existing list new_list = [1,2,3,4] convert to an numpy array.{Hint: np.array()}"
      ],
      "metadata": {
        "id": "mO94Ohxxo3hi"
      }
    },
    {
      "cell_type": "code",
      "source": [
        "#Task01\n",
        "empty_array = np.empty((2,2))\n",
        "print(\"Empty 2x2 Array: \\n\", empty_array)"
      ],
      "metadata": {
        "colab": {
          "base_uri": "https://localhost:8080/"
        },
        "id": "70oifLwDo6AL",
        "outputId": "52cd9192-1d27-4e15-9904-1717973fc0f4"
      },
      "execution_count": 41,
      "outputs": [
        {
          "output_type": "stream",
          "name": "stdout",
          "text": [
            "Empty 2x2 Array: \n",
            " [[2.17236084e-316 0.00000000e+000]\n",
            " [1.52715095e+160 5.49459198e+174]]\n"
          ]
        }
      ]
    },
    {
      "cell_type": "code",
      "source": [
        "#Task02\n",
        "ones_array = np.ones((2,2))\n",
        "print(\"Ones 2x2 Array: \\n\", ones_array)"
      ],
      "metadata": {
        "colab": {
          "base_uri": "https://localhost:8080/"
        },
        "id": "y6owzF1wpcHt",
        "outputId": "f1f58029-5fa6-4e69-ae9c-4b2e3c88659a"
      },
      "execution_count": 42,
      "outputs": [
        {
          "output_type": "stream",
          "name": "stdout",
          "text": [
            "Ones 2x2 Array: \n",
            " [[1. 1.]\n",
            " [1. 1.]]\n"
          ]
        }
      ]
    },
    {
      "cell_type": "code",
      "source": [
        "#Task03\n",
        "fill_value_array = np.full((3,3), 7)\n",
        "print(\"Array filled with value 5: \\n\", fill_value_array)"
      ],
      "metadata": {
        "colab": {
          "base_uri": "https://localhost:8080/"
        },
        "id": "1qpZh3dxpg2E",
        "outputId": "55df4138-ea47-4460-acb9-cc4d8cd67a5c"
      },
      "execution_count": 43,
      "outputs": [
        {
          "output_type": "stream",
          "name": "stdout",
          "text": [
            "Array filled with value 5: \n",
            " [[7 7 7]\n",
            " [7 7 7]\n",
            " [7 7 7]]\n"
          ]
        }
      ]
    },
    {
      "cell_type": "code",
      "source": [
        "#Task04\n",
        "reference_array = np.array([[1,2,3],[4,5,6]])\n",
        "zeros_like_arrayr = np.zeros_like(reference_array)\n",
        "print(\"Zeros like reference array: \\n\", zeros_like_arrayr)"
      ],
      "metadata": {
        "colab": {
          "base_uri": "https://localhost:8080/"
        },
        "id": "7dE8yk-bppNt",
        "outputId": "99f1e128-22a5-4540-a7c0-f89fbf449190"
      },
      "execution_count": 44,
      "outputs": [
        {
          "output_type": "stream",
          "name": "stdout",
          "text": [
            "Zeros like reference array: \n",
            " [[0 0 0]\n",
            " [0 0 0]]\n"
          ]
        }
      ]
    },
    {
      "cell_type": "code",
      "source": [
        "#Task05\n",
        "ones_like_array = np.ones_like(reference_array)\n",
        "print(\"Ones like reference array: \\n\", ones_like_array)"
      ],
      "metadata": {
        "colab": {
          "base_uri": "https://localhost:8080/"
        },
        "id": "CxMX2dTvpywl",
        "outputId": "08c96f0e-0c3c-4924-d342-ae191199b9c8"
      },
      "execution_count": 45,
      "outputs": [
        {
          "output_type": "stream",
          "name": "stdout",
          "text": [
            "Ones like reference array: \n",
            " [[1 1 1]\n",
            " [1 1 1]]\n"
          ]
        }
      ]
    },
    {
      "cell_type": "code",
      "source": [
        "#Task06\n",
        "new_list = [1,2,3,4]\n",
        "numpy_array = np.array(new_list)\n",
        "print(\"Numpy array from list: \", numpy_array)"
      ],
      "metadata": {
        "colab": {
          "base_uri": "https://localhost:8080/"
        },
        "id": "UOze_ED0p4Sc",
        "outputId": "5487fdee-ba80-4304-ac9e-a13786f9cd46"
      },
      "execution_count": 46,
      "outputs": [
        {
          "output_type": "stream",
          "name": "stdout",
          "text": [
            "Numpy array from list:  [1 2 3 4]\n"
          ]
        }
      ]
    },
    {
      "cell_type": "markdown",
      "source": [
        "PROBLEM-02\n",
        "\n",
        "Complete the following tasks:\n",
        "1. Create an array with values ranging from 10 to 49. {Hint:np.arrange()}.\n",
        "2. Create a 3X3 matrix with values ranging from 0 to 8.\n",
        "{Hint:look for np.reshape()}\n",
        "3. Create a 3X3 identity matrix.{Hint:np.eye()}\n",
        "4. Create a random array of size 30 and find the mean of the array.\n",
        "{Hint:check for np.random.random() and array.mean() function}\n",
        "5. Create a 10X10 array with random values and find the minimum and maximum values.\n",
        "6. Create a zero array of size 10 and replace 5th element with 1.\n",
        "7. Reverse an array arr = [1,2,0,0,4,0].\n",
        "8. Create a 2d array with 1 on border and 0 inside.\n",
        "9. Create a 8X8 matrix and fill it with a checkerboard pattern."
      ],
      "metadata": {
        "id": "1UCtV_dDqL2C"
      }
    },
    {
      "cell_type": "code",
      "source": [
        "#Task01\n",
        "array_10_49 = np.arange(10, 50)\n",
        "print(\"Array from 10 to 49: \\n\", array_10_49)"
      ],
      "metadata": {
        "colab": {
          "base_uri": "https://localhost:8080/"
        },
        "id": "KMxqpBaHqRfA",
        "outputId": "4d501cba-5d66-46cb-f700-98f1ecc38a15"
      },
      "execution_count": 47,
      "outputs": [
        {
          "output_type": "stream",
          "name": "stdout",
          "text": [
            "Array from 10 to 49: \n",
            " [10 11 12 13 14 15 16 17 18 19 20 21 22 23 24 25 26 27 28 29 30 31 32 33\n",
            " 34 35 36 37 38 39 40 41 42 43 44 45 46 47 48 49]\n"
          ]
        }
      ]
    },
    {
      "cell_type": "code",
      "source": [
        "#Task02\n",
        "matrix_3x3 = np.arange(9).reshape(3,3)\n",
        "print(\"3x3 Matrix: \\n\", matrix_3x3)"
      ],
      "metadata": {
        "colab": {
          "base_uri": "https://localhost:8080/"
        },
        "id": "LVYvAgcwqt1_",
        "outputId": "011942a5-c596-4ceb-9aad-aea04b6efafe"
      },
      "execution_count": 48,
      "outputs": [
        {
          "output_type": "stream",
          "name": "stdout",
          "text": [
            "3x3 Matrix: \n",
            " [[0 1 2]\n",
            " [3 4 5]\n",
            " [6 7 8]]\n"
          ]
        }
      ]
    },
    {
      "cell_type": "code",
      "source": [
        "#Task03\n",
        "identity_matrix = np.eye(3)\n",
        "print(\"3x3 Identity Matrix: \\n\", identity_matrix)"
      ],
      "metadata": {
        "colab": {
          "base_uri": "https://localhost:8080/"
        },
        "id": "JOcecDwXqyC0",
        "outputId": "06feff38-ef94-42ea-a30f-485cd087d050"
      },
      "execution_count": 49,
      "outputs": [
        {
          "output_type": "stream",
          "name": "stdout",
          "text": [
            "3x3 Identity Matrix: \n",
            " [[1. 0. 0.]\n",
            " [0. 1. 0.]\n",
            " [0. 0. 1.]]\n"
          ]
        }
      ]
    },
    {
      "cell_type": "code",
      "source": [
        "#Task04\n",
        "random_array = np.random.random(30)\n",
        "print(\"Random Array \\n\", random_array)\n",
        "mean_value = random_array.mean()\n",
        "print(\"Mean value of random array: \", mean_value)"
      ],
      "metadata": {
        "colab": {
          "base_uri": "https://localhost:8080/"
        },
        "id": "ZSza9vPwq4P0",
        "outputId": "816ea445-42ba-44d8-9ff0-1ca27893e11d"
      },
      "execution_count": 50,
      "outputs": [
        {
          "output_type": "stream",
          "name": "stdout",
          "text": [
            "Random Array \n",
            " [0.30566931 0.20241863 0.14089787 0.93125665 0.6471646  0.48019835\n",
            " 0.36955888 0.18069507 0.46261295 0.74236537 0.86775263 0.40040378\n",
            " 0.55817378 0.56326166 0.66764367 0.305395   0.3982378  0.88398947\n",
            " 0.90616143 0.09784726 0.40599439 0.95644786 0.27852611 0.88632842\n",
            " 0.34797923 0.69737509 0.50264873 0.07544609 0.88740479 0.24218403]\n",
            "Mean value of random array:  0.5130679638556569\n"
          ]
        }
      ]
    },
    {
      "cell_type": "code",
      "source": [
        "#Task05\n",
        "random_matrix = np.random.random((10, 10))\n",
        "print(\"Random 10x10 Matrix: \\n\", random_matrix)\n",
        "min_value = random_matrix.min()\n",
        "max_value = random_matrix.max()\n",
        "print(\"Minimum value: \", min_value)\n",
        "print(\"Maximum value: \", max_value)"
      ],
      "metadata": {
        "colab": {
          "base_uri": "https://localhost:8080/"
        },
        "id": "gSM6vBDerHoE",
        "outputId": "334be4bb-fc3b-4bd8-b7aa-39692b5ed2f8"
      },
      "execution_count": 51,
      "outputs": [
        {
          "output_type": "stream",
          "name": "stdout",
          "text": [
            "Random 10x10 Matrix: \n",
            " [[0.15255664 0.80721042 0.93990898 0.83701879 0.57405618 0.43712455\n",
            "  0.27952066 0.73376157 0.2845177  0.73984045]\n",
            " [0.35135843 0.54981035 0.85042965 0.37035725 0.71833143 0.23297026\n",
            "  0.2232234  0.00143054 0.23603438 0.42181193]\n",
            " [0.760035   0.54952251 0.56382703 0.64136604 0.15024734 0.63851111\n",
            "  0.82320485 0.5971601  0.494628   0.30698572]\n",
            " [0.28361495 0.83738753 0.84809194 0.22624572 0.10703263 0.48998626\n",
            "  0.48242332 0.98009648 0.40578628 0.3873725 ]\n",
            " [0.60236287 0.8934767  0.61418572 0.64337938 0.00189981 0.72299339\n",
            "  0.53509141 0.54433592 0.72546606 0.25141525]\n",
            " [0.7230869  0.9534571  0.41127841 0.07853749 0.0497173  0.93520507\n",
            "  0.94165204 0.05509216 0.47737949 0.97713983]\n",
            " [0.33013906 0.46471684 0.54576332 0.48082811 0.52570937 0.12677577\n",
            "  0.78739778 0.18919339 0.63959414 0.55275758]\n",
            " [0.22527782 0.86898235 0.09543554 0.30412082 0.34976244 0.82886814\n",
            "  0.26579497 0.11210255 0.32657703 0.01567176]\n",
            " [0.21636408 0.33734707 0.32996188 0.95440505 0.58387777 0.80962273\n",
            "  0.75546704 0.86295559 0.69390225 0.64118789]\n",
            " [0.23158917 0.52096705 0.97952693 0.17731022 0.23811275 0.68981206\n",
            "  0.31868659 0.86460416 0.3716072  0.84543241]]\n",
            "Minimum value:  0.001430544140659129\n",
            "Maximum value:  0.9800964758375109\n"
          ]
        }
      ]
    },
    {
      "cell_type": "code",
      "source": [
        "#Task06\n",
        "zero_array = np.zeros(16)\n",
        "zero_array[4] = 1\n",
        "print(\"Array with value 1 at index 4: \\n\", zero_array)"
      ],
      "metadata": {
        "colab": {
          "base_uri": "https://localhost:8080/"
        },
        "id": "VcIOgmNTrQ6W",
        "outputId": "3d968d27-fbe1-4835-cb91-9e6a563762bd"
      },
      "execution_count": 52,
      "outputs": [
        {
          "output_type": "stream",
          "name": "stdout",
          "text": [
            "Array with value 1 at index 4: \n",
            " [0. 0. 0. 0. 1. 0. 0. 0. 0. 0. 0. 0. 0. 0. 0. 0.]\n"
          ]
        }
      ]
    },
    {
      "cell_type": "code",
      "source": [
        "#Task07\n",
        "arr = np.array([1,2,0,0,4,0])\n",
        "reversed_arr = arr[::-1]\n",
        "print(\"Reversed array: \", reversed_arr)"
      ],
      "metadata": {
        "colab": {
          "base_uri": "https://localhost:8080/"
        },
        "id": "ATD9-m0yra2M",
        "outputId": "ac5ad044-be36-4089-e3b9-f3f3861a6df0"
      },
      "execution_count": 53,
      "outputs": [
        {
          "output_type": "stream",
          "name": "stdout",
          "text": [
            "Reversed array:  [0 4 0 0 2 1]\n"
          ]
        }
      ]
    },
    {
      "cell_type": "code",
      "source": [
        "#Task08\n",
        "border_array = np.ones((5,5))\n",
        "border_array[1:-1, 1:-1] = 0\n",
        "print(\"Border array: \\n\", border_array)"
      ],
      "metadata": {
        "colab": {
          "base_uri": "https://localhost:8080/"
        },
        "id": "UuyOCll5rljG",
        "outputId": "e2469919-7c0b-4f5f-bfec-d71a8af068db"
      },
      "execution_count": 54,
      "outputs": [
        {
          "output_type": "stream",
          "name": "stdout",
          "text": [
            "Border array: \n",
            " [[1. 1. 1. 1. 1.]\n",
            " [1. 0. 0. 0. 1.]\n",
            " [1. 0. 0. 0. 1.]\n",
            " [1. 0. 0. 0. 1.]\n",
            " [1. 1. 1. 1. 1.]]\n"
          ]
        }
      ]
    },
    {
      "cell_type": "code",
      "source": [
        "#Task09\n",
        "checkerboard = np.zeros((8,8))\n",
        "checkerboard[1::2, ::2] = 1\n",
        "checkerboard[::2, 1::2] = 1\n",
        "print(\"Checkerboard pattern: \\n\", checkerboard)"
      ],
      "metadata": {
        "colab": {
          "base_uri": "https://localhost:8080/"
        },
        "id": "YFaraaDeruPB",
        "outputId": "43585c2e-4fff-4667-c204-1e09c2a0f435"
      },
      "execution_count": 55,
      "outputs": [
        {
          "output_type": "stream",
          "name": "stdout",
          "text": [
            "Checkerboard pattern: \n",
            " [[0. 1. 0. 1. 0. 1. 0. 1.]\n",
            " [1. 0. 1. 0. 1. 0. 1. 0.]\n",
            " [0. 1. 0. 1. 0. 1. 0. 1.]\n",
            " [1. 0. 1. 0. 1. 0. 1. 0.]\n",
            " [0. 1. 0. 1. 0. 1. 0. 1.]\n",
            " [1. 0. 1. 0. 1. 0. 1. 0.]\n",
            " [0. 1. 0. 1. 0. 1. 0. 1.]\n",
            " [1. 0. 1. 0. 1. 0. 1. 0.]]\n"
          ]
        }
      ]
    },
    {
      "cell_type": "markdown",
      "source": [
        "PROBLEM-03\n",
        "\n",
        "For the following arrays:\n",
        "x = np.array([[1,2],[3,5]]) and y = np.array([[5,6],[7,8]]);\n",
        "v = np.array([9,10]) and w = np.array([11,12]);\n",
        "Complete all the task using numpy:\n",
        "1. Add the two array.\n",
        "2. Subtract the two array.\n",
        "3. Multiply the array with any integers of your choice.\n",
        "4. Find the square of each element of the array.\n",
        "5. Find the dot product between: v(and)w ; x(and)v ; x(and)y.\n",
        "6. Concatenate x(and)y along row and Concatenate v(and)w along column.\n",
        "{Hint:try np.concatenate() or np.vstack() functions.\n",
        "7. Concatenate x(and)v; if you get an error, observe and explain why did you get the error?"
      ],
      "metadata": {
        "id": "_0bJuybyr0Zf"
      }
    },
    {
      "cell_type": "code",
      "source": [
        "x = np.array([[1,2], [3,5]])\n",
        "y = np.array([[5,6], [7,8]])\n",
        "v = np.array([9,10])\n",
        "w = np.array([11,12])"
      ],
      "metadata": {
        "id": "kToHn4aar1-V"
      },
      "execution_count": 56,
      "outputs": []
    },
    {
      "cell_type": "code",
      "source": [
        "#Task01\n",
        "addition_result = x + y\n",
        "print(\"Addition Result: \\n\", addition_result)"
      ],
      "metadata": {
        "colab": {
          "base_uri": "https://localhost:8080/"
        },
        "id": "BUbGwv0GsUCO",
        "outputId": "d4c3f3d7-138c-4e56-f664-e8b283dee7d4"
      },
      "execution_count": 57,
      "outputs": [
        {
          "output_type": "stream",
          "name": "stdout",
          "text": [
            "Addition Result: \n",
            " [[ 6  8]\n",
            " [10 13]]\n"
          ]
        }
      ]
    },
    {
      "cell_type": "code",
      "source": [
        "#Task02\n",
        "subtraction_result = x - y\n",
        "print(\"Subtraction Result: \\n\", subtraction_result)"
      ],
      "metadata": {
        "colab": {
          "base_uri": "https://localhost:8080/"
        },
        "id": "qsDVhBWEsY3H",
        "outputId": "6e13255e-2c22-4bf6-8b22-ec6869f50946"
      },
      "execution_count": 58,
      "outputs": [
        {
          "output_type": "stream",
          "name": "stdout",
          "text": [
            "Subtraction Result: \n",
            " [[-4 -4]\n",
            " [-4 -3]]\n"
          ]
        }
      ]
    },
    {
      "cell_type": "code",
      "source": [
        "#Task03\n",
        "multiplication_result = x * y\n",
        "print(\"Multiplication Result: \\n\", multiplication_result)"
      ],
      "metadata": {
        "colab": {
          "base_uri": "https://localhost:8080/"
        },
        "id": "6Bmq8gy7sbQk",
        "outputId": "81f44be0-3482-4a6b-b515-67da5e8572d8"
      },
      "execution_count": 59,
      "outputs": [
        {
          "output_type": "stream",
          "name": "stdout",
          "text": [
            "Multiplication Result: \n",
            " [[ 5 12]\n",
            " [21 40]]\n"
          ]
        }
      ]
    },
    {
      "cell_type": "code",
      "source": [
        "#Task04\n",
        "square_result = x ** 2\n",
        "print(\"Square Result: \\n\", square_result)"
      ],
      "metadata": {
        "colab": {
          "base_uri": "https://localhost:8080/"
        },
        "id": "4ipKrVWsse6r",
        "outputId": "f015c367-bfd1-4f76-8bc5-44f2587627fc"
      },
      "execution_count": 60,
      "outputs": [
        {
          "output_type": "stream",
          "name": "stdout",
          "text": [
            "Square Result: \n",
            " [[ 1  4]\n",
            " [ 9 25]]\n"
          ]
        }
      ]
    },
    {
      "cell_type": "code",
      "source": [
        "#Task05\n",
        "dot_vw = np.dot(v,w)\n",
        "print(\"Dot Product of v and w: \", dot_vw)\n",
        "dot_xv = np.dot(x,v)\n",
        "print(\"Dot Product of x and v: \", dot_xv)\n",
        "dot_xy = np.dot(x,y)\n",
        "print(\"Dot Product of x and y: \\n\", dot_xy)"
      ],
      "metadata": {
        "colab": {
          "base_uri": "https://localhost:8080/"
        },
        "id": "SLBzMgPUslCN",
        "outputId": "24fef0af-08aa-46b1-9c67-7f0069369a73"
      },
      "execution_count": 61,
      "outputs": [
        {
          "output_type": "stream",
          "name": "stdout",
          "text": [
            "Dot Product of v and w:  219\n",
            "Dot Product of x and v:  [29 77]\n",
            "Dot Product of x and y: \n",
            " [[19 22]\n",
            " [50 58]]\n"
          ]
        }
      ]
    },
    {
      "cell_type": "code",
      "source": [
        "#Task06\n",
        "concat_xy_rows = np.concatenate((x,y), axis=0)\n",
        "print(\"Concatenated x and y rows: \\n\", concat_xy_rows)"
      ],
      "metadata": {
        "colab": {
          "base_uri": "https://localhost:8080/"
        },
        "id": "a5SXv4yhs0a6",
        "outputId": "24a7297c-b554-4f86-a548-9769f897f512"
      },
      "execution_count": 62,
      "outputs": [
        {
          "output_type": "stream",
          "name": "stdout",
          "text": [
            "Concatenated x and y rows: \n",
            " [[1 2]\n",
            " [3 5]\n",
            " [5 6]\n",
            " [7 8]]\n"
          ]
        }
      ]
    },
    {
      "cell_type": "code",
      "source": [
        "concat_vw_cols = np.vstack((v, w))\n",
        "print(\"Concatenated v and w columns: \\n\", concat_vw_cols)"
      ],
      "metadata": {
        "colab": {
          "base_uri": "https://localhost:8080/"
        },
        "id": "JyY-MWs6s8op",
        "outputId": "7c442b8f-114a-4c0e-866f-5c9fb5f77942"
      },
      "execution_count": 63,
      "outputs": [
        {
          "output_type": "stream",
          "name": "stdout",
          "text": [
            "Concatenated v and w columns: \n",
            " [[ 9 10]\n",
            " [11 12]]\n"
          ]
        }
      ]
    },
    {
      "cell_type": "code",
      "source": [
        "#Task07\n",
        "try:\n",
        "  concat_xv = np.concatenate((x,v), axis=0)\n",
        "  print(\"Concatenation of x and v: \", concat_xv)\n",
        "except ValueError as e:\n",
        "  print(\"\\nError in concatenation of x and v:\", e)\n"
      ],
      "metadata": {
        "colab": {
          "base_uri": "https://localhost:8080/"
        },
        "id": "IrLWeY9CtClm",
        "outputId": "027b8b46-56a0-4ba3-8518-7b065c557338"
      },
      "execution_count": 64,
      "outputs": [
        {
          "output_type": "stream",
          "name": "stdout",
          "text": [
            "\n",
            "Error in concatenation of x and v: all the input arrays must have same number of dimensions, but the array at index 0 has 2 dimension(s) and the array at index 1 has 1 dimension(s)\n"
          ]
        }
      ]
    },
    {
      "cell_type": "markdown",
      "source": [
        "Explanation of Error: Explanation: The shapes of x (2x2) and v (1x2) do not match along axis 0.\n",
        "          To concatenate them, v should be reshaped into a (2x2) matrix"
      ],
      "metadata": {
        "id": "0LL3hZgQtX_3"
      }
    },
    {
      "cell_type": "markdown",
      "source": [
        "PROBLEM-04\n",
        "\n",
        "• For the following arrays:\n",
        "\n",
        "A = np.array([[3,4],[7,8]]) and B = np.array([[5,3],[2,1]]);\n",
        "Prove following with Numpy:\n",
        "1. Prove A.A−1 = I.\n",
        "2. Prove AB ̸= BA.\n",
        "3. Prove (AB)\n",
        "\n",
        "T = BTAT\n",
        "\n",
        "• Solve the following system of Linear equation using Inverse Methods.\n",
        "\n",
        "2x − 3y + z = −1\n",
        "x − y + 2z = −3\n",
        "3x + y − z = 9\n",
        "\n",
        "{Hint: First use Numpy array to represent the equation in Matrix form. Then Solve for: AX = B}\n",
        "\n",
        "• Now: solve the above equation using np.linalg.inv function.{Explore more about ”linalg” func-\n",
        "tion of Numpy}\n"
      ],
      "metadata": {
        "id": "Kq2u0nk7todo"
      }
    },
    {
      "cell_type": "code",
      "source": [
        "A = np.array([[3, 4], [7, 8]])\n",
        "B = np.array([[5, 3], [2, 1]])"
      ],
      "metadata": {
        "id": "bJGZW28btqqy"
      },
      "execution_count": 65,
      "outputs": []
    },
    {
      "cell_type": "code",
      "source": [
        "#1. Prove A.A^(-1) = I\n",
        "A_inv = np.linalg.inv(A)\n",
        "identity_matrix = np.dot(A, A_inv)\n",
        "print(\"Identity Matrix: \\n\", identity_matrix)"
      ],
      "metadata": {
        "colab": {
          "base_uri": "https://localhost:8080/"
        },
        "id": "QJdo9rK8uCtl",
        "outputId": "b120c30a-a5cd-415a-8e88-6289307359f9"
      },
      "execution_count": 66,
      "outputs": [
        {
          "output_type": "stream",
          "name": "stdout",
          "text": [
            "Identity Matrix: \n",
            " [[1.00000000e+00 0.00000000e+00]\n",
            " [1.77635684e-15 1.00000000e+00]]\n"
          ]
        }
      ]
    },
    {
      "cell_type": "code",
      "source": [
        "#2. Prove AB != BA\n",
        "AB = np.dot(A, B)\n",
        "BA = np.dot(B, A)\n",
        "print(\"AB: \\n\", AB)\n",
        "print(\"BA: \\n\", BA)\n",
        "is_equal = np.array_equal(AB, BA)\n",
        "print(\"Are AB and BA equal?\", is_equal)"
      ],
      "metadata": {
        "colab": {
          "base_uri": "https://localhost:8080/"
        },
        "id": "_AwBKutVuTQz",
        "outputId": "a880de88-5886-4a9f-ba76-68a88fb5a604"
      },
      "execution_count": 67,
      "outputs": [
        {
          "output_type": "stream",
          "name": "stdout",
          "text": [
            "AB: \n",
            " [[23 13]\n",
            " [51 29]]\n",
            "BA: \n",
            " [[36 44]\n",
            " [13 16]]\n",
            "Are AB and BA equal? False\n"
          ]
        }
      ]
    },
    {
      "cell_type": "code",
      "source": [
        "#3. Prove (AB)^T = B^T * A^T\n",
        "AB_T = np.transpose(AB)\n",
        "B_T = np.transpose(B)\n",
        "A_T = np.transpose(A)\n",
        "B_T_A_T = np.dot(B_T, A_T)\n",
        "print(\"AB^T: \\n\", AB_T)\n",
        "print(\"B^T * A^T: \\n\", B_T_A_T)\n",
        "is_equal = np.array_equal(AB_T, B_T_A_T)\n",
        "print(\"Are AB^T and B^T * A^T equal?\", is_equal)"
      ],
      "metadata": {
        "colab": {
          "base_uri": "https://localhost:8080/"
        },
        "id": "URADG0rVuaoT",
        "outputId": "96edfda0-9cf2-40f5-80fb-de2fd183b122"
      },
      "execution_count": 68,
      "outputs": [
        {
          "output_type": "stream",
          "name": "stdout",
          "text": [
            "AB^T: \n",
            " [[23 51]\n",
            " [13 29]]\n",
            "B^T * A^T: \n",
            " [[23 51]\n",
            " [13 29]]\n",
            "Are AB^T and B^T * A^T equal? True\n"
          ]
        }
      ]
    },
    {
      "cell_type": "code",
      "source": [
        "# Given Equations\n",
        "# 2x - 3y + z = -1\n",
        "# x - y + 2z = -3\n",
        "# 3x + y - z = 9\n",
        "\n",
        "# Representing in matrix form AX = B\n",
        "A_eq = np.array([[2, -3, 1], [1, -1, 2], [3, 1, -1]])\n",
        "B_eq = np.array([-1, -3, 9])\n",
        "\n",
        "# Solve for X using A^(-1) * B\n",
        "A_inv_eq = np.linalg.inv(A_eq)\n",
        "X_eq = np.dot(A_inv_eq, B_eq)\n",
        "\n",
        "print(\"Solution to the system of equations: \\n\", X_eq)\n"
      ],
      "metadata": {
        "colab": {
          "base_uri": "https://localhost:8080/"
        },
        "id": "02rTjoVQuy3A",
        "outputId": "68b825b6-7b4e-4838-86ae-8f6962fa64a9"
      },
      "execution_count": 69,
      "outputs": [
        {
          "output_type": "stream",
          "name": "stdout",
          "text": [
            "Solution to the system of equations: \n",
            " [ 2.  1. -2.]\n"
          ]
        }
      ]
    },
    {
      "cell_type": "code",
      "source": [
        "# Using np.linalg.solve function\n",
        "X_solution_using_function = np.linalg.solve(A_eq, B_eq)\n",
        "print(\"Solution using np.linalg.solve: \\n\", X_solution_using_function)"
      ],
      "metadata": {
        "colab": {
          "base_uri": "https://localhost:8080/"
        },
        "id": "liXASrc4u2Rq",
        "outputId": "d3456046-6346-4258-928c-a3d2a955db02"
      },
      "execution_count": 70,
      "outputs": [
        {
          "output_type": "stream",
          "name": "stdout",
          "text": [
            "Solution using np.linalg.solve: \n",
            " [ 2.  1. -2.]\n"
          ]
        }
      ]
    },
    {
      "cell_type": "markdown",
      "source": [
        "#HOW FAST IS NumPy\n"
      ],
      "metadata": {
        "id": "7UZ7NqBYvn-M"
      }
    },
    {
      "cell_type": "code",
      "source": [
        "import time"
      ],
      "metadata": {
        "id": "xb9427qSwAAc"
      },
      "execution_count": 71,
      "outputs": []
    },
    {
      "cell_type": "markdown",
      "source": [
        "ELEMENT WISE ADDITION\n",
        "\n",
        "Using Python Lists, perform element-wise addition of two lists of size 1, 000, 000. Measure\n",
        "and Print the time taken for this operation.\n",
        "\n",
        "Using Numpy Arrays, Repeat the calculation and measure and print the time taken for\n",
        "this operation."
      ],
      "metadata": {
        "id": "MioTCVZ0vy1j"
      }
    },
    {
      "cell_type": "code",
      "source": [
        "size = 1_000_000\n",
        "\n",
        "list1 = list(range(size))\n",
        "list2 = list(range(size))\n",
        "\n",
        "# Measure time for element-wise addition using Python lists\n",
        "start_time = time.time()\n",
        "list_result = [list1[i] + list2[i] for i in range(size)]\n",
        "end_time = time.time()\n",
        "\n",
        "print(f\"Time taken for element-wise addition using Python lists: {end_time - start_time} seconds\")"
      ],
      "metadata": {
        "colab": {
          "base_uri": "https://localhost:8080/"
        },
        "id": "8zZVhDiBv3wh",
        "outputId": "58c784b2-ecc8-4602-f703-ffb5b898eec4"
      },
      "execution_count": 72,
      "outputs": [
        {
          "output_type": "stream",
          "name": "stdout",
          "text": [
            "Time taken for element-wise addition using Python lists: 0.18433260917663574 seconds\n"
          ]
        }
      ]
    },
    {
      "cell_type": "code",
      "source": [
        "# Creating two NumPy arrays of size 1,000,000\n",
        "array1 = np.arange(size)\n",
        "array2 = np.arange(size)\n",
        "\n",
        "start_time = time.time()\n",
        "array_result = array1 + array2\n",
        "end_time = time.time()\n",
        "\n",
        "print(f\"Time taken for element-wise addition using NumPy arrays: {end_time - start_time} seconds\")"
      ],
      "metadata": {
        "colab": {
          "base_uri": "https://localhost:8080/"
        },
        "id": "uMiGKjzgwbDB",
        "outputId": "a67f34a3-3fe8-4834-ccf2-69f2d5f177f0"
      },
      "execution_count": 73,
      "outputs": [
        {
          "output_type": "stream",
          "name": "stdout",
          "text": [
            "Time taken for element-wise addition using NumPy arrays: 0.009046077728271484 seconds\n"
          ]
        }
      ]
    },
    {
      "cell_type": "markdown",
      "source": [
        "ELEMENT-WISE MULTIPLICATION\n",
        "\n",
        "Using Python Lists, perform element-wise multiplication of two lists of size 1, 000, 000.\n",
        "\n",
        "Measure and Print the time taken for this operation.\n",
        "\n",
        "Using Numpy Arrays, Repeat the calculation and measure and print the time taken for\n",
        "this operation."
      ],
      "metadata": {
        "id": "0UDGST7bwzGx"
      }
    },
    {
      "cell_type": "code",
      "source": [
        "list1 = list(range(1, size + 1))\n",
        "list2 = list(range(1, size + 1))\n",
        "\n",
        "# Measure time for element-wise multiplication using Python list\n",
        "start_time = time.time()\n",
        "list_result = [list1[i] * list2[i] for i in range(size)]\n",
        "end_time = time.time()\n",
        "print(\"Time taken for element-wise multiplication using Python lists: \", end_time - start_time, \"seconds\")"
      ],
      "metadata": {
        "colab": {
          "base_uri": "https://localhost:8080/"
        },
        "id": "3qZPblW-w2NH",
        "outputId": "af596476-330e-47df-dd04-e34c25bc2ffc"
      },
      "execution_count": 74,
      "outputs": [
        {
          "output_type": "stream",
          "name": "stdout",
          "text": [
            "Time taken for element-wise multiplication using Python lists:  0.19655656814575195 seconds\n"
          ]
        }
      ]
    },
    {
      "cell_type": "code",
      "source": [
        "# Creating two NumPy arrays of size 1,000,000\n",
        "array1 = np.arange(1, size + 1)\n",
        "array2 = np.arange(1, size + 1)\n",
        "\n",
        "#  Measure the time for element-wise multiplication using NumPy arrays\n",
        "start_time = time.time()\n",
        "array_result = array1 * array2\n",
        "end_time = time.time()\n",
        "\n",
        "print(f\"Time taken using NumPy arrays: {end_time - start_time: .6f} seconds\")"
      ],
      "metadata": {
        "colab": {
          "base_uri": "https://localhost:8080/"
        },
        "id": "khoyl7ScxI0R",
        "outputId": "6c4e20ac-988e-45ee-a4b6-2903d542fac0"
      },
      "execution_count": 75,
      "outputs": [
        {
          "output_type": "stream",
          "name": "stdout",
          "text": [
            "Time taken using NumPy arrays:  0.004343 seconds\n"
          ]
        }
      ]
    },
    {
      "cell_type": "markdown",
      "source": [
        "DOT PRODUCT\n",
        "\n",
        "Using Python Lists, compute the dot product of two lists of size 1, 000, 000. Measure and\n",
        "Print the time taken for this operation.\n",
        "\n",
        "Using Numpy Arrays, Repeat the calculation and measure and print the time taken for\n",
        "this operation."
      ],
      "metadata": {
        "id": "RXo4QdO3xjdF"
      }
    },
    {
      "cell_type": "code",
      "source": [
        "size = 1_000_000\n",
        "\n",
        "list1 = list(range(1, size + 1))\n",
        "list2 = list(range(1, size + 1))\n",
        "\n",
        "# Measure time for dot product using Python list\n",
        "start_time = time.time()\n",
        "dot_product = sum(list1[i] * list2[i] for i in range(size))\n",
        "end_time = time.time()\n",
        "print(f\"Time taken using Python lists: {end_time - start_time:.6f} seconds\")"
      ],
      "metadata": {
        "colab": {
          "base_uri": "https://localhost:8080/"
        },
        "id": "6_pmyqNixoV0",
        "outputId": "16016971-8c63-49b1-96b5-d2563e76ce27"
      },
      "execution_count": 76,
      "outputs": [
        {
          "output_type": "stream",
          "name": "stdout",
          "text": [
            "Time taken using Python lists: 0.094242 seconds\n"
          ]
        }
      ]
    },
    {
      "cell_type": "code",
      "source": [
        "# Creating two NumPy arrays with values from 1 to 1,000,000\n",
        "array1 = np.arange(1, size + 1)\n",
        "array2 = np.arange(1, size + 1)\n",
        "\n",
        "# Measure the time for dot product using NumPy arrays\n",
        "start_time = time.time()\n",
        "dot_product = np.dot(array1, array2)\n",
        "end_time = time.time()\n",
        "\n",
        "print(f\"Time taken using NumPy arrays: {end_time - start_time:.6f} seconds\")"
      ],
      "metadata": {
        "colab": {
          "base_uri": "https://localhost:8080/"
        },
        "id": "oEl28B1wyQL1",
        "outputId": "ff6d900b-3cbf-460b-94ce-052604d069ad"
      },
      "execution_count": 77,
      "outputs": [
        {
          "output_type": "stream",
          "name": "stdout",
          "text": [
            "Time taken using NumPy arrays: 0.001368 seconds\n"
          ]
        }
      ]
    },
    {
      "cell_type": "markdown",
      "source": [
        "MATRIX MULTIPLICATION\n",
        "\n",
        "Using Python lists, perform matrix multiplication of two matrices of size 1000x1000. Mea-\n",
        "sure and print the time taken for this operation.\n",
        "\n",
        "Using NumPy arrays, perform matrix multiplication of two matrices of size 1000x1000.\n",
        "Measure and print the time taken for this operation."
      ],
      "metadata": {
        "id": "izUoxYKjyjyT"
      }
    },
    {
      "cell_type": "code",
      "source": [
        "import random\n",
        "\n",
        "size = 1000\n",
        "#  Generate two 1000x1000 matrices with random values between 1 and 10\n",
        "matrix1 = [[random.randint(1, 10) for _ in range(size)] for _ in range(size)]\n",
        "matrix2 = [[random.randint(1, 10) for _ in range(size)] for _ in range(size)]\n",
        "\n",
        "start_time = time.time()\n",
        "result_matrix = [[sum(matrix1[i][k] * matrix2[k][j] for k in range(size)) for j in range(size)] for i in range(size)]\n",
        "end_time = time.time()\n",
        "\n",
        "print(f\"Time taken using Python lists: {end_time - start_time:.6f} seconds\")\n"
      ],
      "metadata": {
        "colab": {
          "base_uri": "https://localhost:8080/"
        },
        "id": "A8OnCH7Syluv",
        "outputId": "a23445e1-a923-497c-fb3d-cf4336f4f0c8"
      },
      "execution_count": 78,
      "outputs": [
        {
          "output_type": "stream",
          "name": "stdout",
          "text": [
            "Time taken using Python lists: 119.652612 seconds\n"
          ]
        }
      ]
    },
    {
      "cell_type": "code",
      "source": [
        "# Convert lists into NumPy arrays\n",
        "array1 = np.array(matrix1)\n",
        "array2 = np.array(matrix2)\n",
        "\n",
        "start_time = time.time()\n",
        "result_array = np.dot(array1, array2)\n",
        "end_time = time.time()\n",
        "\n",
        "print(f\"Time taken using NumPy arrays: {end_time - start_time:.6f} seconds\")"
      ],
      "metadata": {
        "colab": {
          "base_uri": "https://localhost:8080/"
        },
        "id": "QW-mG6S_zDzI",
        "outputId": "8f78f326-1782-426a-ff16-8ee36f474b4c"
      },
      "execution_count": 79,
      "outputs": [
        {
          "output_type": "stream",
          "name": "stdout",
          "text": [
            "Time taken using NumPy arrays: 1.367027 seconds\n"
          ]
        }
      ]
    }
  ]
}